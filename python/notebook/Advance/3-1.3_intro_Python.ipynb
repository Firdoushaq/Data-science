{
 "cells": [
  {
   "cell_type": "markdown",
   "metadata": {},
   "source": [
    "# Section 1.3: Date and Time Arithmetic\n",
    "* datetime.timedelta\n",
    "* datetime operators (+, -, *, /, //, %)\n",
    "\n",
    "### Students will be able to:\n",
    "* Create timedelta objects\n",
    "* Use timedelta objects to perform date arithmetic\n",
    "* Compare two datetime objects\n",
    "* Build a useful application using timedelta arithmetic"
   ]
  },
  {
   "cell_type": "markdown",
   "metadata": {},
   "source": [
    "---\n",
    "<font size=\"6\" color=\"#00A0B2\"  face=\"verdana\"> <B>Concepts</B></font>  \n",
    "\n",
    "\n",
    "## `timedelta` Objects\n",
    "\n",
    "\n",
    "Performing time and date calculations can be a tedious task. For example, if you want to know your age in days, you will need to know how many of the years you have lived through were leap years, and how many days were in each additional month that you've lived. Luckily, the `datetime` module has some utilities that will help you perform such calculations with ease. \n",
    "\n",
    "The `time`, `date`, and `datetime` objects all represent points in time. The `datetime` module provides another data type called `timedelta`, which represents a duration of time rather than a point in time. As a programmer, you can define a `timedelta` variable explicitly or by taking the difference between 2 `datetime` variables.\n",
    "\n",
    "NOTE: The Greek letter &Delta; (pronounced \"delta\") is usually used to represent a difference. The name `timedelta` hints that it contains a time difference which is equivalent to a duration of time."
   ]
  },
  {
   "cell_type": "markdown",
   "metadata": {},
   "source": [
    "---\n",
    "<font size=\"6\" color=\"#00A0B2\"  face=\"verdana\"> <B>Concepts</B></font>  \n",
    "\n",
    "\n",
    "## Creating `timedelta` objects\n",
    "[![view video](https://iajupyterprodblobs.blob.core.windows.net/imagecontainer/common/play_video.png)](https://www.youtube.com/watch?v=Xee__JhytDE)\n",
    "\n",
    "#### `timedelta(weeks = 0, days = 0, hours = 0, minutes = 0, seconds = 0, milliseconds = 0, microseconds = 0)`\n",
    "The attributes of the `timedelta` object are all optional and default to 0 if not specified. `timedelta` does not have year or month attributes because neither of these represent a constant amount of time (leap years are longer than non-leap years and months have from 29 to 31 days).\n",
    "\n",
    "#### Explicit definition\n",
    "You can define a `timedelta` object in the same way that you define a `time`, `date`, or `datetime` object. \n",
    "\n",
    "```python\n",
    "In [1]: from datetime import timedelta\n",
    "In [2]: delta1 = timedelta(days = 7,  hours = 2)\n",
    "In [3]: print(detla1)\n",
    "7 days, 2:00:00\n",
    "```\n",
    "\n",
    "#### Calculating the difference between two `datetime` objects\n",
    "You can define a `timedelta` object as the result of subtracting a `datetime` or `date` object from another.\n",
    "\n",
    "```python\n",
    "In [1]: from datetime import datetime\n",
    "In [2]: dt1 = datetime(year = 2017, month = 1, day = 1) \n",
    "In [3]: dt2 = datetime(year = 2017, month = 2, day = 1)\n",
    "In [4]: delta2 = dt2 - dt1\n",
    "In [5]: print(delta2)\n",
    "31 days, 0:00:00\n",
    "```\n",
    "\n",
    "### Getting the `timedelta` attributes\n",
    "Though you can use many attributes to explicitly define a `timedelta` object, only the days, seconds, and microseconds are stored in the object. Python will convert all other attributes to these three. The days, seconds, and microseconds attributes can all be accessed in the same way we access a `timedelta` object attributes. \n",
    "\n",
    "In the explicit definition example above, we defined `delta1` using the attributes `days = 7` and `hours = 2`, let's see what was actually stored in `delta1`.\n",
    "\n",
    "```python\n",
    "In [5]: delta1.days\n",
    "Out[5]: 7\n",
    "\n",
    "In [6]: delta1.seconds\n",
    "Out[6]: 7200\n",
    "\n",
    "In [7]: delta1.microseconds\n",
    "Out[7]: 0\n",
    "```\n",
    "\n",
    "It's apparent that Python has converted the 2 hours into 2 &times; 60 &times; 60 = 7200 seconds.\n",
    "\n",
    "### Total number of seconds\n",
    "Python can also compute the total number of seconds in a `timedelta` object using the `total_seconds()` function. For example, `delta1` has 7 days &times; 24 hours &times; 60 minutes &times; 60 seconds + 7200 seconds = 612000 seconds.\n",
    "\n",
    "```python\n",
    "In [8]: delta1.total_seconds()\n",
    "Out[8]: 612000.0\n",
    "```"
   ]
  },
  {
   "cell_type": "markdown",
   "metadata": {},
   "source": [
    "---\n",
    "<font size=\"6\" color=\"#00A0B2\"  face=\"verdana\"> <B>Examples</B></font>\n",
    "\n",
    "### Explicit definition"
   ]
  },
  {
   "cell_type": "code",
   "execution_count": null,
   "metadata": {},
   "outputs": [],
   "source": [
    "from datetime import timedelta\n",
    "\n",
    "# Define a timedelta object\n",
    "delta1 = timedelta(days = 2, seconds = 0, minutes = 15, hours = 1, weeks = 4)\n",
    "print(delta1, \" is stored in delta1\")\n",
    "\n",
    "# Get the stored attributes\n",
    "d = delta1.days \n",
    "s = delta1.seconds \n",
    "ms = delta1.microseconds\n",
    "print(\"Days = \", d, \"| Seconds = \", s, \"| Microseconds = \", ms)\n",
    "\n",
    "# Get total number of seconds\n",
    "all_seconds = delta1.total_seconds()\n",
    "print(\"Total number of seconds = \", all_seconds)\n"
   ]
  },
  {
   "cell_type": "markdown",
   "metadata": {},
   "source": [
    "### Calculating the difference between two `datetime` points"
   ]
  },
  {
   "cell_type": "code",
   "execution_count": null,
   "metadata": {},
   "outputs": [],
   "source": [
    "from datetime import datetime, timedelta\n",
    "date1 = datetime(year = 2015, month = 1, day = 19)\n",
    "date2 = datetime.today()\n",
    "\n",
    "# Define a time delta\n",
    "delta2 = date2 - date1\n",
    "\n",
    "print(delta2, \" is stored in delta2\")\n",
    "print(\"Total number of seconds = \", delta2.total_seconds())"
   ]
  },
  {
   "cell_type": "markdown",
   "metadata": {},
   "source": [
    "---\n",
    "<font size=\"6\" color=\"#B24C00\"  face=\"verdana\"> <B>Task 1</B></font>\n",
    "\n",
    "## Creating `timedelta` objects\n"
   ]
  },
  {
   "cell_type": "code",
   "execution_count": null,
   "metadata": {},
   "outputs": [],
   "source": [
    "# [ ] Create a `timedelta` object that contains: 2 hours, 3 minutes, and 1 week\n",
    "\n"
   ]
  },
  {
   "cell_type": "code",
   "execution_count": null,
   "metadata": {},
   "outputs": [],
   "source": [
    "# [ ] Use a `timedelta` object to calculate the total number of seconds in: 1 hour and 15 minutes\n",
    "\n"
   ]
  },
  {
   "cell_type": "code",
   "execution_count": null,
   "metadata": {},
   "outputs": [],
   "source": [
    "# Use a `timedelta` object to find out how many days are left until your upcoming birthday\n",
    "\n"
   ]
  },
  {
   "cell_type": "markdown",
   "metadata": {},
   "source": [
    "---\n",
    "<font size=\"6\" color=\"#00A0B2\"  face=\"verdana\"> <B>Concepts</B></font>  \n",
    "\n",
    "\n",
    "## Performing Date Arithmetic\n",
    "\n",
    "[![view video](https://iajupyterprodblobs.blob.core.windows.net/imagecontainer/common/play_video.png)](https://www.youtube.com/watch?v=Q5B734rNbac)\n",
    "\n",
    "### Arithmetic involving `datetime` and `timedelta` objects\n",
    "The `timedelta` objects can be used to perform date arithmetic on `datetime` and `date` objects. For examples, if you want to know the date 100 days from today, you can define a `timedelta` object with 100 days and add it to today's date. In general, a `timedelta` object can be added to or subtracted from a `datetime` object.\n",
    "\n",
    "### Arithmetic on `timedelta` objects\n",
    "You can perform basic arithmetic operations on `timedelta` objects. For example, you can add 2 `timedelta` objects, subtract them, or divide them. The following table lists some of the available operations; a complete listing is available on the Python Documentation site at https://docs.python.org/3/library/datetime.html#timedelta-objects.\n",
    "\n",
    "Assume: t1, t2, t3 are all `timedelta` objects\n",
    "\n",
    "|Operation|Result|\n",
    "|---------|------|\n",
    "|t1 = t2 + t3| sum of objects|\n",
    "|t1 = t2 - t3| different between objects|\n",
    "|t1 = t2 * i | multiply by an integer i|\n",
    "|f = t2 / t3 | division, return `float`|\n",
    "|t1 = t2 // i| integer division, return `int`|\n",
    "|t1 = t2 % t3| modulo or remainder|\n"
   ]
  },
  {
   "cell_type": "markdown",
   "metadata": {},
   "source": [
    "---\n",
    "<font size=\"6\" color=\"#00A0B2\"  face=\"verdana\"> <B>Examples</B></font>\n",
    "\n",
    "### Arithmetic using `datetime` and `timedelta` objects\n",
    "#### Finding the date 100 days from today. "
   ]
  },
  {
   "cell_type": "code",
   "execution_count": null,
   "metadata": {},
   "outputs": [],
   "source": [
    "from datetime import datetime, timedelta\n",
    "\n",
    "# Define a timedelta object\n",
    "one_hundred_days = timedelta(days = 100)\n",
    "\n",
    "# Get today's date\n",
    "current_date = datetime.today()\n",
    "\n",
    "# Compute the new date\n",
    "new_date = current_date + one_hundred_days\n",
    "\n",
    "# Print formatted new date\n",
    "print(\"After 100 days:\", new_date.strftime(\"%b/%d/%Y\"))"
   ]
  },
  {
   "cell_type": "markdown",
   "metadata": {},
   "source": [
    "#### Finding the dates 200 and 300 days from today"
   ]
  },
  {
   "cell_type": "code",
   "execution_count": null,
   "metadata": {},
   "outputs": [],
   "source": [
    "from datetime import datetime, timedelta\n",
    "\n",
    "# Define the timedelta objects\n",
    "one_hundred_days = timedelta(days = 100)\n",
    "two_hundred_days = one_hundred_days * 2\n",
    "three_hundred_days = one_hundred_days * 3\n",
    "\n",
    "# Get today's date\n",
    "current_date = datetime.today()\n",
    "\n",
    "# Compute the new dates\n",
    "new_date1 = current_date + two_hundred_days\n",
    "new_date2 = current_date + three_hundred_days\n",
    "\n",
    "# Print formatted new dates\n",
    "print(\"After 200 days:\", new_date1.strftime(\"%b/%d/%Y\"))\n",
    "print(\"After 300 days:\", new_date2.strftime(\"%b/%d/%Y\"))\n"
   ]
  },
  {
   "cell_type": "markdown",
   "metadata": {},
   "source": [
    "---\n",
    "<font size=\"6\" color=\"#B24C00\"  face=\"verdana\"> <B>Task 2</B></font>\n",
    "\n",
    "## Performing Date Arithmetic"
   ]
  },
  {
   "cell_type": "code",
   "execution_count": null,
   "metadata": {},
   "outputs": [],
   "source": [
    "# [ ] Write a program to compute the date 3 weeks before your birthday \n",
    "# to help you remember when to send the invitations\n",
    "\n"
   ]
  },
  {
   "cell_type": "code",
   "execution_count": null,
   "metadata": {},
   "outputs": [],
   "source": [
    "# [ ] Write a program that computes the number of days from the current date till the 3 weeks reminder\n",
    "# 1) Create a `timedelta` object (td1) for the period between the current date and your upcoming birthday\n",
    "# 2) Create a `timedelta` object (td2) containing 3 weeks\n",
    "# 3) Use the `timedelta` objects (td) from 1 and 2 to compute the required number of days\n",
    "\n"
   ]
  },
  {
   "cell_type": "markdown",
   "metadata": {},
   "source": [
    "---\n",
    "<font size=\"6\" color=\"#00A0B2\"  face=\"verdana\"> <B>Concepts</B></font>  \n",
    "\n",
    "\n",
    "## Comparing `datetime` objects\n",
    "\n",
    "[![view video](https://iajupyterprodblobs.blob.core.windows.net/imagecontainer/common/play_video.png)](https://www.youtube.com/watch?v=O4C_yR7WOmI)\n",
    "\n",
    "You can compare `datetime` objects to find out which date precedes the other. The result of the comparison can be used in a conditional or loop structure to control the flow of your program. You can use any of the operators in the following table to perform a comparison.\n",
    "\n",
    "|Operator|Description|\n",
    "|--------|-----------|\n",
    "| < | less than|\n",
    "| <= | less than or equal to|\n",
    "| > | greater than|\n",
    "| >= | greater than or equal to|\n",
    "| == | equal to|"
   ]
  },
  {
   "cell_type": "markdown",
   "metadata": {},
   "source": [
    "---\n",
    "<font size=\"6\" color=\"#00A0B2\"  face=\"verdana\"> <B>Examples</B></font>\n",
    "\n",
    "### Comparing two birthdays\n",
    "In this example, a comparison operator is used to find out which person is older:"
   ]
  },
  {
   "cell_type": "code",
   "execution_count": null,
   "metadata": {},
   "outputs": [],
   "source": [
    "from datetime import date\n",
    "\n",
    "# Birthday of person 1\n",
    "birthday1 = date(year = 1993, month = 3, day = 5)\n",
    "\n",
    "# Birthday of person 2\n",
    "birthday2 = date(year = 2003, month = 3, day = 20)\n",
    "\n",
    "# Compare birthdays\n",
    "if (birthday1 > birthday2):\n",
    "    print(\"Person 2 is older\")\n",
    "elif (birthday1 < birthday2):\n",
    "    print(\"Person 1 is older\")\n",
    "else:\n",
    "    print(\"Person 1 and Person 2 are of the same age\")"
   ]
  },
  {
   "cell_type": "markdown",
   "metadata": {},
   "source": [
    "---\n",
    "<font size=\"6\" color=\"#B24C00\"  face=\"verdana\"> <B>Task 3</B></font>\n",
    "\n",
    "## Comparing `datetime` objects"
   ]
  },
  {
   "cell_type": "code",
   "execution_count": null,
   "metadata": {},
   "outputs": [],
   "source": [
    "# [ ] Write a program to find out if 4th of July of this year has passed or not\n",
    "\n"
   ]
  },
  {
   "cell_type": "markdown",
   "metadata": {},
   "source": [
    "---\n",
    "<font size=\"6\" color=\"#00A0B2\"  face=\"verdana\"> <B>Concepts</B></font>  \n",
    "\n",
    "\n",
    "## Creating Useful Applications\n",
    "\n",
    "[![view video](https://iajupyterprodblobs.blob.core.windows.net/imagecontainer/common/play_video.png)](https://www.youtube.com/watch?v=4VNbrLjcYl8)\n",
    "\n",
    "The `datetime` module allows you to perform tedious date calculations and display the result in a human-friendly way. The simplicity and versatile functionality of the module will let you design very useful applications involving date and/or time."
   ]
  },
  {
   "cell_type": "markdown",
   "metadata": {},
   "source": [
    "---\n",
    "<font size=\"6\" color=\"#00A0B2\"  face=\"verdana\"> <B>Examples</B></font>\n",
    "\n",
    "### Creating a December Solstice Countdown application\n",
    "In this section, you will see how easy it is to design a December Solstice Countdown application using the `datetime`, `replace`, and `timedelta` functions you have already seen."
   ]
  },
  {
   "cell_type": "code",
   "execution_count": null,
   "metadata": {},
   "outputs": [],
   "source": [
    "from datetime import datetime\n",
    "\n",
    "# Define today's date\n",
    "now = datetime.today()\n",
    "\n",
    "# December solstice of year 1, it can be any year, it will be changed later\n",
    "solstice = datetime(month = 12, day = 21, year = 1)\n",
    "\n",
    "# Change solstice's year to current year\n",
    "solstice = solstice.replace(year = (datetime.today().year))\n",
    "\n",
    "# Get the timedelta\n",
    "count = solstice - now\n",
    "\n",
    "# Display the solstice countdown\n",
    "print(\"There are\", count.days, \"days until the December solstice!\" )"
   ]
  },
  {
   "cell_type": "markdown",
   "metadata": {},
   "source": [
    "---\n",
    "<font size=\"6\" color=\"#B24C00\"  face=\"verdana\"> <B>Task 4</B></font>\n",
    "\n",
    "## Creating Useful Applications\n"
   ]
  },
  {
   "cell_type": "code",
   "execution_count": null,
   "metadata": {},
   "outputs": [],
   "source": [
    "# [ ] Complete the following program to find out if you are closer to the current year's June or December solstice\n",
    "\n",
    "# Define today's date\n",
    "now = datetime.today()\n",
    "\n",
    "# Define the December solstice\n",
    "december_solstice = datetime(month = 12, day = 21, year = now.year)\n",
    "\n",
    "# Define the June solstice\n",
    "june_solstice = datetime(month = 6, day = 21, year = now.year)\n",
    "\n",
    "# Find out which solstice is closer\n",
    "\n",
    "\n"
   ]
  },
  {
   "cell_type": "code",
   "execution_count": null,
   "metadata": {
    "collapsed": true
   },
   "outputs": [],
   "source": []
  }
 ],
 "metadata": {
  "kernelspec": {
   "display_name": "Python 3",
   "language": "python",
   "name": "python3"
  },
  "language_info": {
   "codemirror_mode": {
    "name": "ipython",
    "version": 3
   },
   "file_extension": ".py",
   "mimetype": "text/x-python",
   "name": "python",
   "nbconvert_exporter": "python",
   "pygments_lexer": "ipython3",
   "version": "3.5.4"
  }
 },
 "nbformat": 4,
 "nbformat_minor": 2
}
