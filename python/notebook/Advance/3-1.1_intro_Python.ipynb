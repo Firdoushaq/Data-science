{
 "cells": [
  {
   "cell_type": "markdown",
   "metadata": {},
   "source": [
    "# Section 1.1: Using Python Modules\n",
    "* import, import as\n",
    "* math: sqrt, //, %, \\**\n",
    "* order of operations\n",
    "* ceil, floor\n",
    "* random: random.randint(a, b), randrange(start, stop[,step])\n",
    "* random: random.choice(seq), random.shuffle(x[,random])\n",
    "\n",
    "### Students will be able to:\n",
    "* Import different Python modules\n",
    "* Compute mathematical expressions using functions from the math module\n",
    "* Recognize the effect of operator precedence\n",
    "* Round real numbers to the nearest integer\n",
    "* Generate (pseudo-)random integers\n",
    "* Select a random element from a list\n",
    "* Shuffle the elements of a list"
   ]
  },
  {
   "cell_type": "markdown",
   "metadata": {
    "collapsed": true
   },
   "source": [
    "---\n",
    "<font size=\"6\" color=\"#00A0B2\"  face=\"verdana\"> <B>Concepts</B></font>  \n",
    "\n",
    "\n",
    "## Importing Modules\n",
    "\n",
    "[![view video](https://iajupyterprodblobs.blob.core.windows.net/imagecontainer/common/play_video.png)](https://www.youtube.com/watch?v=D6CNcAWR50g)\n",
    "\n",
    "When writing code, you do not have to create everything from scratch. As a matter of fact, you are encouraged to use previously developed functions written by other programmers. Such code is usually distributed as a library of functions and other facilities. Libraries are further organized into `modules` that contain related code. \n",
    "\n",
    "A module is basically a file that contains functions, variable, and classes. To use a function from a module, you need to import that module to your code. There are several ways to import a module; the following examples show you how to import and use the power function `pow` to compute 2<sup>3</sup>, and 5<sup>2</sup>.\n",
    "\n",
    "### Importing the whole library\n",
    "```python\n",
    "# import the whole math library\n",
    "import math\n",
    "\n",
    "# compute 2 to the power 3\n",
    "math.pow(2, 3)\n",
    "\n",
    "# compute 5 to the power 2\n",
    "math.pow(5, 2)\n",
    "```\n",
    "\n",
    "### Importing the whole library and renaming it\n",
    "```python\n",
    "# import the whole math library and rename it ml\n",
    "import math as ml\n",
    "\n",
    "# compute 2 to the power 3\n",
    "ml.pow(2, 3)\n",
    "\n",
    "# compute 5 to the power 2\n",
    "ml.pow(5, 2)\n",
    "```\n",
    "\n",
    "### Importing only the `pow` function\n",
    "In this case, there is no need to refer to the `math` module when using `pow`.\n",
    "\n",
    "```python\n",
    "# import the `pow` function\n",
    "from math import pow\n",
    "\n",
    "# compute 2 to the power 3\n",
    "pow(2, 3)\n",
    "\n",
    "# compute 5 to the power 2\n",
    "pow(5, 2)\n",
    "```"
   ]
  },
  {
   "cell_type": "markdown",
   "metadata": {},
   "source": [
    "---\n",
    "<font size=\"6\" color=\"#00A0B2\"  face=\"verdana\"> <B>Examples</B></font>\n",
    "\n",
    "### Importing the `fabs` Function\n",
    "The following examples show you how to import and use the 'fabs' function, which calculates the absolute value of a number.\n",
    "* |-5| = 5\n",
    "* |12| = 12"
   ]
  },
  {
   "cell_type": "code",
   "execution_count": null,
   "metadata": {},
   "outputs": [],
   "source": [
    "import math\n",
    "x = -5\n",
    "math.fabs(x)"
   ]
  },
  {
   "cell_type": "code",
   "execution_count": null,
   "metadata": {},
   "outputs": [],
   "source": [
    "import math as ml\n",
    "y = 12\n",
    "ml.fabs(y)"
   ]
  },
  {
   "cell_type": "code",
   "execution_count": null,
   "metadata": {},
   "outputs": [],
   "source": [
    "from math import fabs\n",
    "fabs(-5)"
   ]
  },
  {
   "cell_type": "markdown",
   "metadata": {},
   "source": [
    "---\n",
    "<font size=\"6\" color=\"#B24C00\" face=\"verdana\"><B>Task 1</B></font>\n",
    "\n",
    "## Importing Modules\n",
    "\n",
    "### Finding the greatest common divisor\n",
    "The `math` module contains many useful functions. Skim through the Python Documentation Site's math page at https://docs.python.org/3/library/math.html and find an appropriate function that can compute the greatest common divisor of two numbers."
   ]
  },
  {
   "cell_type": "code",
   "execution_count": null,
   "metadata": {},
   "outputs": [],
   "source": [
    "# [ ] Import the math module and use an appropriate function to find the greatest common divisor of 16 and 28\n",
    "\n",
    "\n"
   ]
  },
  {
   "cell_type": "code",
   "execution_count": null,
   "metadata": {},
   "outputs": [],
   "source": [
    "# [ ] Prompt the user to input 2 positive integers then print their greatest common divisor\n",
    "\n"
   ]
  },
  {
   "cell_type": "markdown",
   "metadata": {
    "collapsed": true
   },
   "source": [
    "---\n",
    "<font size=\"6\" color=\"#00A0B2\"  face=\"verdana\"> <B>Concepts</B></font>  \n",
    "\n",
    "## Using `math` Functions\n",
    "\n",
    "[![view video](https://iajupyterprodblobs.blob.core.windows.net/imagecontainer/common/play_video.png)](https://www.youtube.com/watch?v=0kYUYLWELkM)\n",
    "\n",
    "The Python Documentation Site's page on [math](https://docs.python.org/3.6/library/math.html) module contains a lot of mathematically useful functions and constants. For example, it contains trigonometric functions such as `cos` and `sin`, and other functions such as `sqrt`.\n",
    "\n",
    "### Square root\n",
    "\n",
    "The `sqrt` function computes the square root of a number. The following examples show how to compute:\n",
    "* &radic;<span style=\"text-decoration: overline\">5</span>\n",
    "* &radic;<span style=\"text-decoration: overline\">30</span>\n",
    "\n",
    "```python\n",
    "from math import sqrt\n",
    "\n",
    "#compute the square root of 5\n",
    "sqrt(5)\n",
    "\n",
    "#compute the square root of 30\n",
    "sqrt(30)\n",
    "```\n",
    "\n",
    "### Other arithmetic operators\n",
    "\n",
    "#### Division operator `/`\n",
    "Normal division is performed by the `/` operator. For example:\n",
    "\n",
    "<sup>5</sup>/<sub>2</sub> = 2 <sup>1</sup>/<sub>2</sub> = 2.5\n",
    "\n",
    "```python\n",
    "In [1]: 5/2\n",
    "Out[1]: 2.5\n",
    "```\n",
    "\n",
    "#### Integer division operator `//`\n",
    "We can keep the integer and discard the fractional remainder by using the integer division operator `//`.\n",
    "\n",
    "```python\n",
    "In [1]: 5//2\n",
    "Out[1]: 2\n",
    "```\n",
    "\n",
    "#### Modulo operator `%` \n",
    "The modulo operator is opposite to the integer division operator; it keeps the remainder of a division.\n",
    "\n",
    "```python\n",
    "In [1]: 5%2\n",
    "Out[1]: 1\n",
    "```\n",
    "\n",
    "#### Exponent operator `**`\n",
    "We saw earlier that the `pow` function from the `math` module computes the exponent. We can achieve the same functionality using the exponent `**` operator. To compute 2<sup>3</sup> and 5<sup>2</sup>:\n",
    "\n",
    "```python\n",
    "In [1]: 2**3\n",
    "Out[1]: 8\n",
    "\n",
    "In [2]: 5**2\n",
    "Out[2]: 25\n",
    "```\n",
    "\n"
   ]
  },
  {
   "cell_type": "markdown",
   "metadata": {},
   "source": [
    "---\n",
    "<font size=\"6\" color=\"#00A0B2\" face=\"verdana\"><B>Examples</B></font>\n",
    "\n",
    "### Pythagorean theorem\n",
    "\n",
    "We can use the Pythagorean theorem (see the Wikipedia Site page on the [Pythagorean theorem](https://en.wikipedia.org/wiki/Pythagorean_theorem)) to compute the hypotenuse length of a right triangle as follows:\n",
    "\n",
    "h<sup>2</sup> = a<sup>2</sup> + b<sup>2</sup>\n",
    "\n",
    "h = &radic;<span style=\"text-decoration: overline\">a<sup style=\"vertical-align:-0.5ex\">2</sup> + b<sup style=\"vertical-align:-0.5ex\">2</sup></span>\n",
    "\n",
    "In Python, we can compute `h` as follows:\n"
   ]
  },
  {
   "cell_type": "code",
   "execution_count": null,
   "metadata": {},
   "outputs": [],
   "source": [
    "from math import sqrt\n",
    "a = 3\n",
    "b = 4\n",
    "h = sqrt(a ** 2 + b ** 2)\n",
    "print(h)"
   ]
  },
  {
   "cell_type": "markdown",
   "metadata": {},
   "source": [
    "### Even or Odd?\n",
    "\n",
    "To test if a number is even or odd, we usually divide it by 2 and check the remainder. If the remainder is 0, the number is even; otherwise, the number is odd. We can use the modulo operator to test for the remainder as follows:"
   ]
  },
  {
   "cell_type": "code",
   "execution_count": null,
   "metadata": {},
   "outputs": [],
   "source": [
    "# Even number (print 0)\n",
    "print(102 % 2)\n",
    "\n",
    "# Odd Number (print 1)\n",
    "print(77 % 2)"
   ]
  },
  {
   "cell_type": "markdown",
   "metadata": {},
   "source": [
    "---\n",
    "<font size=\"6\" color=\"#B24C00\"  face=\"verdana\"> <B>Task 2</B></font>\n",
    "\n",
    "## Using `math` Functions"
   ]
  },
  {
   "cell_type": "code",
   "execution_count": null,
   "metadata": {
    "collapsed": true
   },
   "outputs": [],
   "source": [
    "# [ ] Fill out the function is_even with a code block that returns True if n is even and returns False if n is odd\n",
    "\n",
    "def is_even(n):\n",
    "    #TODO\n",
    "\n",
    "# Test the function \n",
    "x = 5\n",
    "if is_even(x):\n",
    "    print(\"Number is even\")\n",
    "else:\n",
    "    print(\"Number is odd\")\n",
    "\n",
    "    \n"
   ]
  },
  {
   "cell_type": "code",
   "execution_count": null,
   "metadata": {
    "collapsed": true
   },
   "outputs": [],
   "source": [
    "# [ ] Use the function is_even to print the square root of all the even numbers in the following list\n",
    "\n",
    "l = [25, 34, 193, 2, 81, 26, 44]\n",
    "\n",
    "def is_even(n):\n",
    "    return (n % 2) == 0\n",
    "\n"
   ]
  },
  {
   "cell_type": "markdown",
   "metadata": {
    "collapsed": true
   },
   "source": [
    "---\n",
    "<font size=\"6\" color=\"#00A0B2\"  face=\"verdana\"> <B>Concepts</B></font>  \n",
    "\n",
    "## Operator Precedence\n",
    "\n",
    "[![view video](https://iajupyterprodblobs.blob.core.windows.net/imagecontainer/common/play_video.png)](https://www.youtube.com/watch?v=26qUip5e6E8)\n",
    "\n",
    "Similar to arithmetic operators, Python's operators also have precedence. The following table shows some of the operators we have seen in order from highest to lowest precedence.\n",
    "\n",
    "| Operator | Description |\n",
    "|----------|-------------|\n",
    "| () | Parentheses|\n",
    "| \\** | Exponentiation| \n",
    "| *, /, //, %| Multiplication, division, integer division, modulo|\n",
    "|+, -| Addition, subtraction|\n",
    "\n",
    "The parentheses can be used to group code to achieve the precedence you want."
   ]
  },
  {
   "cell_type": "markdown",
   "metadata": {},
   "source": [
    "---\n",
    "<font size=\"6\" color=\"#00A0B2\" face=\"verdana\"><B>Examples</B></font>\n",
    "\n",
    "\n",
    "### 5 + 2 &times; 8\n",
    "\n",
    "Multiplication has a higher precedence, so the answer is: 5 + 16 = 21."
   ]
  },
  {
   "cell_type": "code",
   "execution_count": null,
   "metadata": {},
   "outputs": [],
   "source": [
    "5 + 2 * 8"
   ]
  },
  {
   "cell_type": "markdown",
   "metadata": {},
   "source": [
    "If you meant the calculation to be 7 &times; 8 = 56, you should use parentheses as (5 + 2) &times; 8.\n"
   ]
  },
  {
   "cell_type": "code",
   "execution_count": null,
   "metadata": {},
   "outputs": [],
   "source": [
    "(5 + 2) * 8"
   ]
  },
  {
   "cell_type": "markdown",
   "metadata": {},
   "source": [
    "### <sup>12</sup> / <sub>4 * 3</sub>\n",
    "\n",
    "The answer should be <sup>12</sup> / <sub>12</sub> = 1."
   ]
  },
  {
   "cell_type": "code",
   "execution_count": null,
   "metadata": {},
   "outputs": [],
   "source": [
    "12 / 4 * 3"
   ]
  },
  {
   "cell_type": "markdown",
   "metadata": {},
   "source": [
    "The expression resulted in a wrong answer because all three operators have the same precedence, and the expression was evaluated from left to right. There are 2 ways to fix this issue:"
   ]
  },
  {
   "cell_type": "code",
   "execution_count": null,
   "metadata": {},
   "outputs": [],
   "source": [
    "# Method 1\n",
    "12 / (4 * 3)"
   ]
  },
  {
   "cell_type": "code",
   "execution_count": null,
   "metadata": {},
   "outputs": [],
   "source": [
    "# Method 2\n",
    "12 / 4 / 3"
   ]
  },
  {
   "cell_type": "markdown",
   "metadata": {},
   "source": [
    "---\n",
    "<font size=\"6\" color=\"#B24C00\"  face=\"verdana\"> <B>Task 3</B></font>\n",
    "\n",
    "## Operator Precedence"
   ]
  },
  {
   "cell_type": "code",
   "execution_count": null,
   "metadata": {
    "collapsed": true
   },
   "outputs": [],
   "source": [
    "# [ ] Correct the following expression so the answer is 10\n",
    "\n",
    "4 + 16 / 2\n",
    "\n"
   ]
  },
  {
   "cell_type": "code",
   "execution_count": null,
   "metadata": {
    "collapsed": true
   },
   "outputs": [],
   "source": [
    "# [ ] Correct the following expression so the answer is 250; review the operator precedence table and use only one () pair\n",
    "\n",
    "2 * 3 + 2 ** 3\n",
    "\n"
   ]
  },
  {
   "cell_type": "markdown",
   "metadata": {
    "collapsed": true
   },
   "source": [
    "---\n",
    "<font size=\"6\" color=\"#00A0B2\"  face=\"verdana\"> <B>Concepts</B></font>  \n",
    "\n",
    "\n",
    "## Rounding Numbers\n",
    "\n",
    "[![view video](https://iajupyterprodblobs.blob.core.windows.net/imagecontainer/common/play_video.png)](https://www.youtube.com/watch?v=t4yK5-0OV9w)\n",
    "\n",
    "In some cases, you need to round a real number into an integer. For example, 31.8 can be rounded up to the next integer (32), and it can also be rounded down (to 31).\n",
    "\n",
    "#### Ceiling\n",
    "A real number can be rounded up in Python using the `ceil` function from the `math` module. The function takes a real number `x` and returns the smallest integer value greater than or equal to `x`.\n",
    "\n",
    "```python\n",
    "# importing the math library\n",
    "import math\n",
    "\n",
    "# round up\n",
    "x = math.ceil(31.8)\n",
    "print(x) #will print 32\n",
    "```  \n",
    "\n",
    "#### Truncate\n",
    "The function `trunc` from the `math` module can round a real number into an integer by ignoring (truncating) the fraction part.\n",
    "\n",
    "```python\n",
    "# importing the math library\n",
    "import math\n",
    "x = math.trunc(31.8)\n",
    "print(x) #will print 31\n",
    "```\n",
    "\n",
    "#### Floor\n",
    "A real number can be rounded down in Python using the `floor` function from the `math` module. The function takes a real number `x` and returns the largest integer value less than or equal to `x`.\n",
    "\n",
    "```python\n",
    "# importing the math library\n",
    "import math\n",
    "\n",
    "# round down\n",
    "x = math.floor(31.8)\n",
    "print(x) #will print 31\n",
    "```  "
   ]
  },
  {
   "cell_type": "markdown",
   "metadata": {},
   "source": [
    "---\n",
    "<font size=\"6\" color=\"#00A0B2\" face=\"verdana\"><B>Examples</B></font>\n",
    "\n",
    "You and a friend participated in a programming contest. Your hard work paid off, and your team won a prize of \\$213, which you decide to split evenly. Unfortunately, you were given the prize in \\$1 bills and neither of you has any coins. How should you split the prize?\n",
    "\n",
    "An equal division of the prize is <sup>213</sup>/<sub>2</sub> = 106.5; however, you cannot get \\$0.5 without destroying one of the \\$1 bills, so you decide to use Python to round:"
   ]
  },
  {
   "cell_type": "code",
   "execution_count": null,
   "metadata": {
    "collapsed": true
   },
   "outputs": [],
   "source": [
    "from math import floor, ceil, trunc\n",
    "\n",
    "prize = 213\n",
    "\n",
    "option1 = floor(213 / 2)\n",
    "print(\"You get\", option1, \" and your friend gets \", prize - option1)"
   ]
  },
  {
   "cell_type": "code",
   "execution_count": null,
   "metadata": {
    "collapsed": true
   },
   "outputs": [],
   "source": [
    "from math import floor, ceil, trunc\n",
    "\n",
    "prize = 213\n",
    "\n",
    "option2 = ceil(213 / 2)\n",
    "print(\"You get\", option2, \" and your friend gets \", prize - option2)"
   ]
  },
  {
   "cell_type": "markdown",
   "metadata": {},
   "source": [
    "---\n",
    "<font size=\"6\" color=\"#B24C00\"  face=\"verdana\"> <B>Task 4</B></font>\n",
    "\n",
    "## Rounding Numbers\n"
   ]
  },
  {
   "cell_type": "code",
   "execution_count": null,
   "metadata": {
    "collapsed": true
   },
   "outputs": [],
   "source": [
    "# [ ] Use an appropriate rounding function to round 75.34 to 75 and then to 76\n",
    "\n",
    "import math\n",
    "\n",
    "x = 75.34\n",
    "\n"
   ]
  },
  {
   "cell_type": "markdown",
   "metadata": {},
   "source": [
    "### `float` error rounding\n",
    "Representing `float` numbers in a computer is prone to rounding errors. In this task you should use one of the rounding functions to fix the error."
   ]
  },
  {
   "cell_type": "code",
   "execution_count": null,
   "metadata": {},
   "outputs": [],
   "source": [
    "# [ ] Use an appropriate rounding function to fix the following `float` error\n",
    "\n",
    "# Price of a chocolate box\n",
    "p = 4.35\n",
    "\n",
    "# Quantity needed\n",
    "q = 200\n",
    "\n",
    "# Order total price (Should be 4.35 * 200 = $870.00)\n",
    "total = p * q\n",
    "\n",
    "print(\"Total price: \", total)\n",
    "\n"
   ]
  },
  {
   "cell_type": "markdown",
   "metadata": {
    "collapsed": true
   },
   "source": [
    "---\n",
    "<font size=\"6\" color=\"#00A0B2\"  face=\"verdana\"> <B>Concepts</B></font>  \n",
    "\n",
    "\n",
    "## Generating Random Integers\n",
    "\n",
    "[![view video](https://iajupyterprodblobs.blob.core.windows.net/imagecontainer/common/play_video.png)](https://www.youtube.com/watch?v=SXBoyZkIw2A)\n",
    "\n",
    "If you are programming a Sudoku game that generates the same pattern every time you start it, chances are you will not play it many times. Introducing some randomness would make the game much more interesting. Python has several random number generator functions in the `random` module. You need only to import the module and use an appropriate function that suits your application.\n",
    "\n",
    "#### Random integer between a and b\n",
    "The function `randint(a, b)` generates a random number n, where a &leq; n &leq; b\n",
    "\n",
    "The following generates a number between 1 and 10:\n"
   ]
  },
  {
   "cell_type": "code",
   "execution_count": null,
   "metadata": {},
   "outputs": [],
   "source": [
    "from random import randint\n",
    "print(randint(1, 10))"
   ]
  },
  {
   "cell_type": "markdown",
   "metadata": {},
   "source": [
    "#### Random integer from a range\n",
    "The randrange(start, stop[, step]) function generates a random number from a range of integers between start (included) and stop (excluded) with an optional step. The following generates a number between 1 and 10:"
   ]
  },
  {
   "cell_type": "code",
   "execution_count": null,
   "metadata": {},
   "outputs": [],
   "source": [
    "from random import randrange\n",
    "print(randrange(1, 11))"
   ]
  },
  {
   "cell_type": "markdown",
   "metadata": {},
   "source": [
    "In this case start = 1 and stop = 11 and we didn't specify the step value, which is 1 by default.\n",
    "\n",
    "If step were specified as a value other than 1, such as 2, then `randrange(1, 11, 2)` would generate a number from the following range [1, 3, 5, 7, 9]. In other words, the randrange randomly selects a value from the range of integer numbers between 1 (included) and 11 (excluded) where the elements are separated by 2."
   ]
  },
  {
   "cell_type": "code",
   "execution_count": null,
   "metadata": {},
   "outputs": [],
   "source": [
    "from random import randrange\n",
    "print(randrange(1, 11, 2))"
   ]
  },
  {
   "cell_type": "markdown",
   "metadata": {},
   "source": [
    "---\n",
    "<font size=\"6\" color=\"#00A0B2\" face=\"verdana\"><B>Examples</B></font>\n",
    "\n",
    "### Die roller\n",
    "If you are designing a game, it will be useful to have a function that can roll a die for you. The following shows a function that generates a single die roll:"
   ]
  },
  {
   "cell_type": "code",
   "execution_count": null,
   "metadata": {},
   "outputs": [],
   "source": [
    "from random import randint\n",
    "\n",
    "def die_roller ():\n",
    "    return (randint(1, 6))\n",
    "\n",
    "\n",
    "# roll a die\n",
    "print(die_roller())"
   ]
  },
  {
   "cell_type": "markdown",
   "metadata": {},
   "source": [
    "### Odd random integers\n",
    "The following example shows you how to generate a random odd integer n, such that 1 &leq; n < 102:"
   ]
  },
  {
   "cell_type": "code",
   "execution_count": null,
   "metadata": {},
   "outputs": [],
   "source": [
    "from random import randrange\n",
    "\n",
    "def odd_random():\n",
    "    return (randrange(1, 102, 2))\n",
    "\n",
    "# Generate an odd random integer\n",
    "print(odd_random())"
   ]
  },
  {
   "cell_type": "markdown",
   "metadata": {},
   "source": [
    "---\n",
    "<font size=\"6\" color=\"#B24C00\" face=\"verdana\"><B>Task 5</B></font>\n",
    "\n",
    "## Generating Random Integers\n"
   ]
  },
  {
   "cell_type": "code",
   "execution_count": null,
   "metadata": {
    "collapsed": true
   },
   "outputs": [],
   "source": [
    "# [ ] Modify the die_roller() function to use randrange instead of randint\n",
    "\n"
   ]
  },
  {
   "cell_type": "code",
   "execution_count": null,
   "metadata": {
    "collapsed": true
   },
   "outputs": [],
   "source": [
    "# [ ] Modify the odd_random() function to use randint instead of randrange\n",
    "\n"
   ]
  },
  {
   "cell_type": "code",
   "execution_count": null,
   "metadata": {
    "collapsed": true
   },
   "outputs": [],
   "source": [
    "# [ ] Complete the function dice_roller() so it rolls 2 dice\n",
    "# Use the die_roller function\n",
    "\n",
    "from random import randint\n",
    "\n",
    "def die_roller():\n",
    "    return(randint(1, 6))\n",
    "\n",
    "def dice_roller():\n",
    "    #TODO\n",
    "\n",
    "print(dice_roller())\n",
    "\n"
   ]
  },
  {
   "cell_type": "markdown",
   "metadata": {
    "collapsed": true
   },
   "source": [
    "---\n",
    "<font size=\"6\" color=\"#00A0B2\"  face=\"verdana\"> <B>Concepts</B></font>  \n",
    "\n",
    "\n",
    "## Random Sequences\n",
    "\n",
    "[![view video](https://iajupyterprodblobs.blob.core.windows.net/imagecontainer/common/play_video.png)](https://www.youtube.com/watch?v=z4IV0ffouew)\n",
    "\n",
    "### Selecting an element from a list\n",
    "In certain cases, you want to select an element from a range of non-integers or even a list of non-numeric elements. In such cases `randint` and `randrange` will not work; however, the `random` module comes with a `choice` function that returns a randomly chosen element from a list passed as an argument. For example, if you are designing a \"Rock, Paper, Scissors\" game, and you want the computer to choose one of the `string` options randomly, you need to use the `choice` function.\n"
   ]
  },
  {
   "cell_type": "code",
   "execution_count": null,
   "metadata": {},
   "outputs": [],
   "source": [
    "from random import choice\n",
    "\n",
    "# Select Rock, Paper, or Scissors\n",
    "def RPS():\n",
    "    options = ['Rock', 'Paper', 'Scissors']\n",
    "    # return one of the elements at random\n",
    "    return (choice(options))\n",
    "\n",
    "# Generate an option\n",
    "print(RPS());"
   ]
  },
  {
   "cell_type": "markdown",
   "metadata": {},
   "source": [
    "### Shuffling the elements of a list\n",
    "\n",
    "Sometimes you do not want to choose a random element from a list, but rather you want to shuffle the content of a list. Say you want to rearrange a list of names to a random order. The function `shuffle` shuffles the elements of list in place as illustrated below:\n"
   ]
  },
  {
   "cell_type": "code",
   "execution_count": null,
   "metadata": {},
   "outputs": [],
   "source": [
    "from random import shuffle\n",
    "\n",
    "x = ['Ana', 'John', 'Mike', 'Sally']\n",
    "\n",
    "shuffle(x)\n",
    "\n",
    "print(x)"
   ]
  },
  {
   "cell_type": "markdown",
   "metadata": {},
   "source": [
    "---\n",
    "<font size=\"6\" color=\"#00A0B2\"  face=\"verdana\"> <B>Examples</B></font>\n",
    "\n",
    "### Picking a random playing card\n",
    "\n",
    "Say you want to design a card game, and you want a function to pick one of the 52 cards at random. The `choice` function is a good fit."
   ]
  },
  {
   "cell_type": "code",
   "execution_count": null,
   "metadata": {},
   "outputs": [],
   "source": [
    "from random import choice\n",
    "\n",
    "def pick_card():\n",
    "    card_type = ['Clubs', 'Diamonds', 'Hearts', 'Spades'];\n",
    "    card_number = ['Ace', 2, 3, 4, 5, 6, 7, 8, 9, 10, 'Jack', 'Queen', 'King']\n",
    "    \n",
    "    # choose a type at random\n",
    "    t = choice(card_type)\n",
    "    n = choice(card_number)\n",
    "    \n",
    "    return [n, t]\n",
    "\n",
    "# Show the randomly picked card\n",
    "print(pick_card())"
   ]
  },
  {
   "cell_type": "markdown",
   "metadata": {},
   "source": [
    "---\n",
    "<font size=\"6\" color=\"#B24C00\"  face=\"verdana\"> <B>Task 6</B></font>\n",
    "\n",
    "## Random Sequences"
   ]
  },
  {
   "cell_type": "code",
   "execution_count": null,
   "metadata": {},
   "outputs": [],
   "source": [
    "# [ ] Modify the pick_card() function to use `shuffle` instead of choice\n",
    "\n"
   ]
  },
  {
   "cell_type": "code",
   "execution_count": null,
   "metadata": {
    "collapsed": true
   },
   "outputs": [],
   "source": [
    "# [ ] The following list contain the 10 most populous American cities; write code to randomly select one of the cities to visit\n",
    "cities = [\"New York\", \"Los Angeles\", \"Chicago\", \"Houston\", \"Phoenix\", \"Philadelphia\", \"San Antonio\", \"San Diego\", \"Dallas\", \"San Jose\"]\n",
    "\n"
   ]
  }
 ],
 "metadata": {
  "kernelspec": {
   "display_name": "Python 3",
   "language": "python",
   "name": "python3"
  },
  "language_info": {
   "codemirror_mode": {
    "name": "ipython",
    "version": 3
   },
   "file_extension": ".py",
   "mimetype": "text/x-python",
   "name": "python",
   "nbconvert_exporter": "python",
   "pygments_lexer": "ipython3",
   "version": "3.5.4"
  }
 },
 "nbformat": 4,
 "nbformat_minor": 2
}
