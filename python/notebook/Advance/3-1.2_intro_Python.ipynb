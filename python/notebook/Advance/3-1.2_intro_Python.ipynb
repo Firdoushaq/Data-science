{
 "cells": [
  {
   "cell_type": "markdown",
   "metadata": {},
   "source": [
    "# Section 1.2: Working with Dates and Times\n",
    "* datetime module\n",
    "* datetime.time: hour, minute, second, microsecond, replace\n",
    "* datetime.date: year, month, day, replace, today\n",
    "* datetime.datetime: year, month, day, hour, minute, microsecond, replace, today, date, time, combine\n",
    "* strftime\n",
    "\n",
    "### Students will be able to:\n",
    "* Assign and modify a time object (variable)\n",
    "* Assign and modify a date object (variable)\n",
    "* Get the current local date\n",
    "* Assign and modify a datetime object (variable)\n",
    "* Split a datetime object into separate time and date objects\n",
    "* Combine time and date objects into datetime objects\n",
    "* Display a datetime object as a formatted string"
   ]
  },
  {
   "cell_type": "markdown",
   "metadata": {},
   "source": [
    "---\n",
    "<font size=\"6\" color=\"#00A0B2\"  face=\"verdana\"> <B>Concepts</B></font>  \n",
    "\n",
    "\n",
    "## The `datetime` Module\n",
    "\n",
    "Certain applications require knowing the current date and/or time. For example, certain websites display a countdown timer to a launch date or an important event. The Python `datetime` module contains a number of useful datatypes (classes) and functions (methods) to define and manipulate time and date variables. In this lesson, we will first explore ways to create variables that contain time and date information; we will then delve into ways to display the content of these variables in a human-readable way. In the next lesson, we will use these time/date variables to build some useful applications."
   ]
  },
  {
   "cell_type": "markdown",
   "metadata": {},
   "source": [
    "---\n",
    "<font size=\"6\" color=\"#00A0B2\"  face=\"verdana\"> <B>Concepts</B></font>  \n",
    "\n",
    "\n",
    "## `time` Objects\n",
    "\n",
    "[![view video](https://iajupyterprodblobs.blob.core.windows.net/imagecontainer/common/play_video.png)](https://www.youtube.com/watch?v=DwD0rp5jZ6Q)\n",
    "\n",
    "### `time(hour = 0, minute = 0, second = 0, microsecond = 0)`\n",
    "### Assigning a `time` object\n",
    "The `datetime` module contains a `time` datatype (class) that can be used to store and manipulate time information. When assigning a variable (object) of type `time` you can specify the hour, minute, second, and microsecond attributes. Any attribute that you leave unspecified will be set to its default value of 0. When specifying an attribute, you should make sure it is within its valid range:\n",
    "* 0 &leq; hour < 24\n",
    "* 0 &leq; minute < 60\n",
    "* 0 &leq; second < 60\n",
    "* 0 &leq; microsecond < 1000000\n",
    "\n",
    "If any of the attributes is outside its valid range, you will get a `ValueError` message.\n",
    "\n",
    "Note: 1 second is equal to 1 million microseconds or 1 s = 10<sup>6</sup> &mu;s\n",
    "\n",
    "### Getting `time` object attributes (hour, minute... etc.)\n",
    "You can access the attributes of any `time` variable by specifying its name. For example, if you have a `time` variable named `StartTime`, you can get the value of the minute attribute from `StartTime.minute`.\n",
    "\n",
    "### Modifying `time` object attributes (hour, minute... etc.)\n",
    "You can not only access the attributes of a `time` variable, you can also modify them. For example, if you want to modify the hour of `StartTime`, you can use an expression similar to `StartTime.replace(hour = 5)` to set the hour attribute to 5 regardless of its previous value. You can also modify multiple attributes simultaneously by specifying all values to be changed. For example, if you want to modify the hour and second of `StartTime`, you can use an expression similar to `StartTime.replace(hour = 5, second = 2)`."
   ]
  },
  {
   "cell_type": "markdown",
   "metadata": {},
   "source": [
    "---\n",
    "<font size=\"6\" color=\"#00A0B2\"  face=\"verdana\"> <B>Examples</B></font>\n",
    "\n",
    "### Assigning a `time` object by specifying all attributes (hour, minute, second, microsecond) in order\n",
    "When assigning a new `time` object, you can specify all of its attributes by writing the numbers in the following order: hour, minute, second, microsecond."
   ]
  },
  {
   "cell_type": "code",
   "execution_count": null,
   "metadata": {},
   "outputs": [],
   "source": [
    "from datetime import time\n",
    "\n",
    "# Time is 8:55:20.000500 PM (or 20:55:20.000500)\n",
    "t = time(20, 55, 20, 500)\n",
    "print(t)"
   ]
  },
  {
   "cell_type": "markdown",
   "metadata": {},
   "source": [
    "### Assigning a `time` object by specifying all attributes (hour, minute, second, microsecond) by name\n",
    "If you specify the attributes by name, they need not be in order."
   ]
  },
  {
   "cell_type": "code",
   "execution_count": null,
   "metadata": {},
   "outputs": [],
   "source": [
    "from datetime import time\n",
    "\n",
    "# Time is 9:10:20.900000 AM (or 9:10:20.900000)\n",
    "t = time(minute = 10, hour = 9, microsecond = 900000, second = 20)\n",
    "print(t)"
   ]
  },
  {
   "cell_type": "markdown",
   "metadata": {},
   "source": [
    "### Assigning a `time` object by specifying some attributes\n",
    "If an attribute is not specified, it will be set to 0."
   ]
  },
  {
   "cell_type": "code",
   "execution_count": null,
   "metadata": {},
   "outputs": [],
   "source": [
    "from datetime import time\n",
    "\n",
    "# Time is 1:10 PM (or 13:10:00:000000)\n",
    "t = time(hour = 1, minute = 10)\n",
    "print(t)"
   ]
  },
  {
   "cell_type": "markdown",
   "metadata": {},
   "source": [
    "### Specifying a wrong attribute value\n",
    "When an attribute is set to an invalid value, a `ValueError` will be raised. This will happen whether you are assigning or changing the value of an existing variable."
   ]
  },
  {
   "cell_type": "code",
   "execution_count": null,
   "metadata": {},
   "outputs": [],
   "source": [
    "from datetime import time\n",
    "\n",
    "# Assigning a time variable with an invalid attribute\n",
    "t = time(hour = 29)\n",
    "print(t)"
   ]
  },
  {
   "cell_type": "markdown",
   "metadata": {},
   "source": [
    "### Getting an attribute\n",
    "You can access a single attribute or all attributes of a `time` variable separately."
   ]
  },
  {
   "cell_type": "code",
   "execution_count": null,
   "metadata": {},
   "outputs": [],
   "source": [
    "from datetime import time\n",
    "\n",
    "# assign a time variable t\n",
    "t = time(hour = 9, minute = 10, second = 43, microsecond = 100)\n",
    "\n",
    "# access each of the attributes separately\n",
    "h = t.hour # will be 9\n",
    "m = t.minute # will be 10 \n",
    "s = t.second # will be 43\n",
    "ms = t.microsecond # will be 100\n",
    "\n",
    "print(\"The time is: \", h,\" hours \", m, \" minutes\", s, \" seconds and \", ms, \" microseconds\" )"
   ]
  },
  {
   "cell_type": "markdown",
   "metadata": {},
   "source": [
    "### Modifying attributes of an assigned `time` variable\n",
    "You might think that an attribute can be changed by specifying it directly as `t.hour = 8`; however, this will result in an error message saying that the attribute is not writable. The solution is to use the `replace` function.\n",
    "\n",
    "`replace` copies the information of a `time` variable into a new `time` variable while modifying the specified  attributes, you can then reassign the new variable to the original variable `t`, which modifies `t` to reflect the desired changes. The following example illustrates this idea:"
   ]
  },
  {
   "cell_type": "code",
   "execution_count": null,
   "metadata": {},
   "outputs": [],
   "source": [
    "from datetime import time\n",
    "\n",
    "# assign t as 9:10:43:0000100\n",
    "t = time(hour = 9, minute = 10, second = 43, microsecond = 100)\n",
    "print(\"Old time: \", t)\n",
    "\n",
    "# modify hour and minute\n",
    "t = t.replace(hour = 8, minute = 8)\n",
    "\n",
    "print(\"New time: \", t)"
   ]
  },
  {
   "cell_type": "markdown",
   "metadata": {},
   "source": [
    "---\n",
    "<font size=\"6\" color=\"#B24C00\"  face=\"verdana\"> <B>Task 1</B></font>\n",
    "\n",
    "## `time` Objects"
   ]
  },
  {
   "cell_type": "code",
   "execution_count": null,
   "metadata": {},
   "outputs": [],
   "source": [
    "# [ ] Create a `time` variable containing the time: 8:45 AM\n",
    "\n"
   ]
  },
  {
   "cell_type": "code",
   "execution_count": null,
   "metadata": {},
   "outputs": [],
   "source": [
    "# [ ] Create a `time` variable containing the time: 8:45:01:000150 PM\n",
    "\n"
   ]
  },
  {
   "cell_type": "code",
   "execution_count": null,
   "metadata": {},
   "outputs": [],
   "source": [
    "# [ ] Print the hour (only) contained in t3\n",
    "\n",
    "from datetime import time\n",
    "t3 = time(hour = 15, minute = 10, second = 0)\n",
    "\n"
   ]
  },
  {
   "cell_type": "code",
   "execution_count": null,
   "metadata": {},
   "outputs": [],
   "source": [
    "# [ ] Modify t3 to: 4:10 PM\n",
    "t3 = time(hour = 15, minute = 10, second =0)\n",
    "\n"
   ]
  },
  {
   "cell_type": "markdown",
   "metadata": {},
   "source": [
    "---\n",
    "<font size=\"6\" color=\"#00A0B2\"  face=\"verdana\"> <B>Concepts</B></font>  \n",
    "\n",
    "\n",
    "## `date` Objects\n",
    "\n",
    "[![view video](https://iajupyterprodblobs.blob.core.windows.net/imagecontainer/common/play_video.png)](https://www.youtube.com/watch?v=cGGEsOFVHKg)\n",
    "\n",
    "### `date(year, month, day)`\n",
    "The `datetime` module contains a `date` datatype (class) that has the attributes year, month, and day. Assigning, modifying, and accessing a `date` object is similar to that of a `time` object. However, all of the `date` attributes are required because it doesn't make sense to set a month or a day to 0 by default. Therefore, all attributes of a `date` object should be specified and these attributes should be within their valid ranges:\n",
    "* 1 &leq; year &leq; 9999\n",
    "* 1 &leq; month &leq; 12\n",
    "* 1 &leq; day &leq; number of days in the given month and year\n",
    "\n",
    "The attributes of a `date` object can be accessed individually, in the same way you access the attributes of a `time` object. For example, to access the month of a variable `StartDate`, you should use the expression `StartDate.month`. \n",
    "\n",
    "### Current local date\n",
    "In most practical applications involving dates, it is very important to know the current local date of the machine executing the code. For example, if you want to build a counter to display how many days has passed since an important event, you will need to know the current date. This can be easily achieved by using the function `today()` as shown in the following examples."
   ]
  },
  {
   "cell_type": "markdown",
   "metadata": {},
   "source": [
    "---\n",
    "<font size=\"6\" color=\"#00A0B2\"  face=\"verdana\"> <B>Examples</B></font>\n",
    "\n",
    "### Assigning a `date` object"
   ]
  },
  {
   "cell_type": "code",
   "execution_count": null,
   "metadata": {},
   "outputs": [],
   "source": [
    "from datetime import date\n",
    "\n",
    "# using all attributes in order (year, month, day) w/o names\n",
    "# date1 is May 7 2013\n",
    "date1 = date(2013, 5, 7)\n",
    "print(\"date1 is: \", date1)\n",
    "\n",
    "# using all attributes with names and not necessarily in order\n",
    "# date2 is April 23 1999\n",
    "date2 = date(day = 23, month = 4, year = 1999)\n",
    "print(\"date2 is: \", date2) "
   ]
  },
  {
   "cell_type": "markdown",
   "metadata": {},
   "source": [
    "### Getting a `date` attribute"
   ]
  },
  {
   "cell_type": "code",
   "execution_count": null,
   "metadata": {},
   "outputs": [],
   "source": [
    "from datetime import date\n",
    "\n",
    "# assign a date variable\n",
    "SpecialDate = date(year = 2017, month = 11, day = 15)\n",
    "\n",
    "y = SpecialDate.year # will be 2017\n",
    "m = SpecialDate.month # will be 11\n",
    "d = SpecialDate.day # will be 15\n",
    "\n",
    "print(\"The Special Date is: / month: \", m, \"/ day: \", d, \"/ year: \", y)"
   ]
  },
  {
   "cell_type": "markdown",
   "metadata": {},
   "source": [
    "### Modifying the attributes of an assigned `date` object\n",
    "The `replace` function can be used to modify the attributes of a `date` object in the same way it is used to modify attributes of an assigned `time` object."
   ]
  },
  {
   "cell_type": "code",
   "execution_count": null,
   "metadata": {},
   "outputs": [],
   "source": [
    "from datetime import date\n",
    "\n",
    "# assign a date\n",
    "SomeDate = date(year = 2015, day = 28, month = 2)\n",
    "print(\"Old date: \", SomeDate)\n",
    "\n",
    "# modify year and day\n",
    "# 2016 is a leap year, so we can set the date to Feb 29 2016\n",
    "SomeDate = SomeDate.replace(year = 2016, day = 29)\n",
    "print(\"New date: \", SomeDate)"
   ]
  },
  {
   "cell_type": "markdown",
   "metadata": {},
   "source": [
    "### Getting the current local date"
   ]
  },
  {
   "cell_type": "code",
   "execution_count": null,
   "metadata": {},
   "outputs": [],
   "source": [
    "from datetime import date\n",
    "\n",
    "# get today's date\n",
    "d = date.today()\n",
    "\n",
    "print(d)"
   ]
  },
  {
   "cell_type": "markdown",
   "metadata": {},
   "source": [
    "---\n",
    "<font size=\"6\" color=\"#B24C00\"  face=\"verdana\"> <B>Task 2</B></font>\n",
    "\n",
    "## `date` Objects"
   ]
  },
  {
   "cell_type": "code",
   "execution_count": null,
   "metadata": {},
   "outputs": [],
   "source": [
    "# [ ] Create a `date` variable containing: (March 28 2012)\n",
    "\n"
   ]
  },
  {
   "cell_type": "code",
   "execution_count": null,
   "metadata": {},
   "outputs": [],
   "source": [
    "# [ ] Prompt the user to enter a month and a day, get the current year, then create a date object with the information collected\n",
    "\n"
   ]
  },
  {
   "cell_type": "markdown",
   "metadata": {},
   "source": [
    "---\n",
    "<font size=\"6\" color=\"#00A0B2\"  face=\"verdana\"> <B>Concepts</B></font>  \n",
    "\n",
    "\n",
    "## `datetime` Objects\n",
    "\n",
    "[![view video](https://iajupyterprodblobs.blob.core.windows.net/imagecontainer/common/play_video.png)](https://www.youtube.com/watch?v=fFKuVm4U7d8)\n",
    "\n",
    "### `datetime(year, month, day, hour = 0, minute = 0, second = 0, microsecond = 0)`\n",
    "Some applications require knowing and/or manipulating both time and date information. The `datetime` module has a datatype (class) that combines both time and date information into the same variable. This general datatype has the same name as the `datetime` module. The `datetime` datatype combines the attributes of a `date` object and a `time` object, and can be assigned, modified, and accessed in a similar way. When assigning a new variable of type `datetime`, all the date attributes are required; the time attributes are optional and have default values of 0. The attributes have the same ranges as those of the individual `time` and `date` objects:\n",
    "* 1 &leq; year &leq; 9999\n",
    "* 1 &leq; month &leq; 12\n",
    "* 1 &leq; day &leq; number of days in the given month and year\n",
    "* 0 &leq; hour < 24\n",
    "* 0 &leq; minute < 60\n",
    "* 0 &leq; second < 60\n",
    "* 0 &leq; microsecond < 1000000\n",
    "\n",
    "The attributes of a `datetime` variable can be modified using the `replace` function. The new attribute values should be within the valid limits.\n",
    "\n",
    "### Setting a `datetime` object to the current local date and time\n",
    "The attributes of a `datetime` object can be set to the current local date and time using the `today` function. The function behaves in the same way it does with a `date` object, except that it also captures the current local time.\n",
    "\n",
    "```python\n",
    "# set dt to the current local date and time\n",
    "In [1]: dt = datetime.today()\n",
    "```\n",
    "\n",
    "### Splitting a `datetime` object into separate `date` and `time` objects\n",
    "A `datetime` object can be split into separate `date` and `time` objects, this can be achieved using the functions `date()` and `time()` as follows:\n",
    "\n",
    "```python\n",
    "# set dt to some date/time\n",
    "In [1]: dt = datetime(year = 2014, month = 1, day = 3, hour = 15, minute = 1)\n",
    "In [2]: t = dt.time() # set time t to 15:1:0.0\n",
    "In [3]: d = dt.date() # set date d to January 3 2014\n",
    "```\n",
    "\n",
    "### Combining separate `date` and `time` objects into a single `datetime` object\n",
    "Separate `date` and `time` variables can be combined into a single `datetime` variable using the `combine(date, time)` function.\n",
    "\n",
    "```python\n",
    "In [1]: t = time(hour = 15, minute = 1) # set time t to 15:1:0.0\n",
    "In [2]: d = date(year = 2014, month = 1, day = 3) # set date d to January 3 2014\n",
    "In [3]: dt = datetime.combine(d ,t) # or equivalently dt = datetime.combine(date = d, time = t)\n",
    "```"
   ]
  },
  {
   "cell_type": "markdown",
   "metadata": {},
   "source": [
    "---\n",
    "<font size=\"6\" color=\"#00A0B2\"  face=\"verdana\"> <B>Examples</B></font>\n",
    "\n",
    "### Assigning a `datetime` object"
   ]
  },
  {
   "cell_type": "code",
   "execution_count": null,
   "metadata": {},
   "outputs": [],
   "source": [
    "from datetime import datetime\n",
    "\n",
    "# July 4th 2022, at 4:30 PM\n",
    "\n",
    "# Method 1\n",
    "dt = datetime(2022, 7, 4, 16, 30)\n",
    "print(\"Method 1: \", dt)\n",
    "\n",
    "# Method 2\n",
    "dt = datetime(day = 4, month = 7, year = 2022, minute = 30, hour = 16)\n",
    "print(\"Method 2: \", dt)"
   ]
  },
  {
   "cell_type": "markdown",
   "metadata": {},
   "source": [
    "### Getting a `datetime` attribute"
   ]
  },
  {
   "cell_type": "code",
   "execution_count": null,
   "metadata": {},
   "outputs": [],
   "source": [
    "from datetime import datetime\n",
    "\n",
    "# July 4th 2022, at 4:30 PM\n",
    "dt = datetime(2022, 7, 4, 16, 30)\n",
    "\n",
    "# access year\n",
    "print(\"Year is: \", dt.year)\n",
    "\n",
    "# access minute\n",
    "print(\"Minute is: \", dt.minute)"
   ]
  },
  {
   "cell_type": "markdown",
   "metadata": {},
   "source": [
    "### Modifying the attributes of an assigned `datetime` object"
   ]
  },
  {
   "cell_type": "code",
   "execution_count": null,
   "metadata": {},
   "outputs": [],
   "source": [
    "from datetime import datetime\n",
    "\n",
    "# July 4th 2022, at 4:30 PM\n",
    "dt = datetime(2022, 7, 4, 16, 30)\n",
    "\n",
    "# change year to 2020 and second to 30\n",
    "dt = dt.replace(year = 2020, second = 30)\n",
    "print(dt)"
   ]
  },
  {
   "cell_type": "markdown",
   "metadata": {},
   "source": [
    "### Getting the current local date and time"
   ]
  },
  {
   "cell_type": "code",
   "execution_count": null,
   "metadata": {},
   "outputs": [],
   "source": [
    "from datetime import datetime\n",
    "\n",
    "# get today's date and current local time\n",
    "dt = datetime.today()\n",
    "print(dt)"
   ]
  },
  {
   "cell_type": "markdown",
   "metadata": {},
   "source": [
    "### Splitting a `datetime` object into separate `date` and `time` objects"
   ]
  },
  {
   "cell_type": "code",
   "execution_count": null,
   "metadata": {},
   "outputs": [],
   "source": [
    "from datetime import datetime, time, date\n",
    "\n",
    "# get today's date and current local time\n",
    "dt = datetime.today()\n",
    "\n",
    "# split into time t and date d\n",
    "t = dt.time()\n",
    "print(\"Time is: \", t)\n",
    "\n",
    "d = dt.date()\n",
    "print(\"Date is: \", d)"
   ]
  },
  {
   "cell_type": "markdown",
   "metadata": {},
   "source": [
    "### Combining separate `date` and `time` objects into a `datetime` object"
   ]
  },
  {
   "cell_type": "code",
   "execution_count": null,
   "metadata": {},
   "outputs": [],
   "source": [
    "from datetime import datetime, time, date\n",
    "\n",
    "# assign a time object\n",
    "t = time(hour = 6, minute = 45, second = 0)\n",
    "\n",
    "# assign a date object\n",
    "d = date.today()\n",
    "\n",
    "# combine t and d into a datetime object\n",
    "dt = datetime.combine(date = d, time = t)\n",
    "\n",
    "print(dt)"
   ]
  },
  {
   "cell_type": "markdown",
   "metadata": {},
   "source": [
    "---\n",
    "<font size=\"6\" color=\"#B24C00\"  face=\"verdana\"> <B>Task 3</B></font>\n",
    "\n",
    "## `datetime` Objects"
   ]
  },
  {
   "cell_type": "code",
   "execution_count": null,
   "metadata": {},
   "outputs": [],
   "source": [
    "# [ ] Create a `datetime` variable containing: (March 28 2012 @ 12:55:10:30 AM)\n",
    "\n"
   ]
  },
  {
   "cell_type": "code",
   "execution_count": null,
   "metadata": {},
   "outputs": [],
   "source": [
    "# [ ] Write code that prints the current hour\n",
    "\n"
   ]
  },
  {
   "cell_type": "code",
   "execution_count": null,
   "metadata": {},
   "outputs": [],
   "source": [
    "# [ ] Write a program that prints the current date on one line and the current time on another line\n",
    "\n"
   ]
  },
  {
   "cell_type": "code",
   "execution_count": null,
   "metadata": {},
   "outputs": [],
   "source": [
    "# [ ] Write a program that:\n",
    "# 1) prompts the user for a time (hours and minutes only)\n",
    "# 2) gets the current date\n",
    "# 3) combines the collected information into a `datetime` variable\n",
    "\n"
   ]
  },
  {
   "cell_type": "markdown",
   "metadata": {},
   "source": [
    "---\n",
    "<font size=\"6\" color=\"#00A0B2\"  face=\"verdana\"> <B>Concepts</B></font>  \n",
    "\n",
    "\n",
    "## Formatting Dates and Times\n",
    "\n",
    "[![view video](https://iajupyterprodblobs.blob.core.windows.net/imagecontainer/common/play_video.png)](https://www.youtube.com/watch?v=fFHZuUxzjnk)\n",
    "\n",
    "The date and time information is often shown to us humans; therefore, it is useful to display it in a human-friendly way. For example, you might want to show a date as Nov, 03, 1999, or display the time as 10:15 AM. The `strftime()` function will make this task easier. \n",
    "\n",
    "`strftime()` applies to `time`, `date`, and `datetime` objects. It reads the attributes of the object, applies a formatting directive, and returns a formatted string. There are different date and time directives; however, `time` directives shouldn't be used with `date` objects because they don't have such attributes; similarly, `date` directives shouldn't be used with `time` objects.\n",
    "\n",
    "The `strftime()` is passed a string containing all necessary formatting directives along with any necessary slashes, commas, colons, and so on. The following tables show a short list of commonly used directives. The Python Documentation site has more information on the `strftime()` function at https://docs.python.org/3/library/datetime.html#strftime-strptime-behavior.\n",
    "\n",
    "#### Date formatting directives\n",
    "\n",
    "|Directive| Meaning| Example|\n",
    "|---------|--------|--------|\n",
    "|%a| Abbreviated weekday name| Sun, Mon, ..., Fri|\n",
    "|%A| Full weekday name| Sunday, Monday, ..., Friday|\n",
    "|%d| Day of the month as a zero-padded decimal| 01, 02, 03, ... 31|\n",
    "|%b| Abbreviated month name| Jan, Feb, ..., Dec|\n",
    "|%B| Full month name| January, February, ..., December|\n",
    "|%m| Month as a zero-padded decimal| 01, 02,..., 12|\n",
    "|%y| 2 decimal year number (without century) | 00, 01, ..., 99|\n",
    "|%Y| 4 decimal year number (with century) | 1900, 1989, ..., 2015|\n",
    "\n",
    "#### Time formatting directives\n",
    "|Directive| Meaning| Example|\n",
    "|---------|--------|--------|\n",
    "|%H| Hour in 24-hour clock (zero-padded)| 00, 01, ..., 23|\n",
    "|%I| Hour in 12-hour clock (zero-padded)| 00, 01, ..., 12|\n",
    "|%p| AM or PM| AM, PM|\n",
    "|%M| Minutes as zero-padded decimal| 00, 01, ..., 59|\n",
    "|%S| Seconds as zero-padded decimal| 00, 01, ...,59|\n",
    "\n"
   ]
  },
  {
   "cell_type": "markdown",
   "metadata": {},
   "source": [
    "---\n",
    "<font size=\"6\" color=\"#00A0B2\"  face=\"verdana\"> <B>Examples</B></font>\n",
    "\n",
    "### Formatting `time` objects"
   ]
  },
  {
   "cell_type": "code",
   "execution_count": null,
   "metadata": {},
   "outputs": [],
   "source": [
    "from datetime import time\n",
    "t = time(hour = 10, minute = 15)\n",
    "\n",
    "# display as 10:15 AM\n",
    "# string passed to strftim includes all necessary spaces and semicolons\n",
    "formatted_string = t.strftime(\"%I:%M %p\")\n",
    "print(\"First format: \", formatted_string)\n",
    "\n",
    "# display as 10:15:00 (24 hour clock, no AM/PM)\n",
    "formatted_string = t.strftime(\"%H:%M:%S\")\n",
    "print(\"Second format: \",formatted_string)"
   ]
  },
  {
   "cell_type": "markdown",
   "metadata": {},
   "source": [
    "### Formatting `date` objects"
   ]
  },
  {
   "cell_type": "code",
   "execution_count": null,
   "metadata": {},
   "outputs": [],
   "source": [
    "from datetime import date\n",
    "d = date(year = 1999, month = 11, day =3)\n",
    "\n",
    "# display as November, 03, 1999\n",
    "# string passed to strftime includes all necessary spaces and commas\n",
    "formatted_string = d.strftime(\"%B, %d, %Y\")\n",
    "print(\"First format: \", formatted_string)\n",
    "\n",
    "# display as Nov 03 99\n",
    "formatted_string = d.strftime(\"%b %d %y\")\n",
    "print(\"Second format: \", formatted_string)"
   ]
  },
  {
   "cell_type": "markdown",
   "metadata": {},
   "source": [
    "### Formatting `datetime` objects"
   ]
  },
  {
   "cell_type": "code",
   "execution_count": null,
   "metadata": {},
   "outputs": [],
   "source": [
    "from datetime import datetime \n",
    "dt = datetime(year = 1999, month = 11, day = 3, hour = 10, minute = 15)\n",
    "\n",
    "# display as November, 03, 1999 @ 10:15 AM\n",
    "formatted_string = dt.strftime(\"%B, %d, %Y @ %I:%M %p\")\n",
    "print(\"First format: \", formatted_string)\n",
    "\n",
    "# display as Nov 03 99 / 10:15:00\n",
    "formatted_string = dt.strftime(\"%b %d %y / %H:%M:%S\")\n",
    "print(\"Second format: \", formatted_string)"
   ]
  },
  {
   "cell_type": "markdown",
   "metadata": {},
   "source": [
    "---\n",
    "<font size=\"6\" color=\"#B24C00\"  face=\"verdana\"> <B>Task 4</B></font>\n",
    "\n",
    "## Formatting Dates and Times"
   ]
  },
  {
   "cell_type": "code",
   "execution_count": null,
   "metadata": {},
   "outputs": [],
   "source": [
    "# [ ] Write a program that displays the time: (17:39:10) as:\n",
    "# 1) 05:39:10 PM\n",
    "# 2) 17:39:10\n",
    "\n"
   ]
  },
  {
   "cell_type": "code",
   "execution_count": null,
   "metadata": {},
   "outputs": [],
   "source": [
    "# [ ] Write a program that displays the date: (October 23rd 2018) as:\n",
    "# 1) Oct 23, 2018\n",
    "# 2) 10/23/18\n",
    "# 3) 23/October/2018\n",
    "# 4) Tuesday October 23\n",
    "\n"
   ]
  },
  {
   "cell_type": "code",
   "execution_count": null,
   "metadata": {},
   "outputs": [],
   "source": [
    "# [ ] Complete the function `weekday` to return the weekday name of `some_date`\n",
    "# Use the function to find the weekday on which you were born\n",
    "\n",
    "from datetime import date\n",
    "\n",
    "def weekday(some_date):\n",
    "    #TODO\n",
    "    \n",
    "# Modify to your birthdate\n",
    "bd = date(day = 8, month = 3, year = 1974)\n",
    "\n",
    "# Display the day on which you were born\n",
    "day = weekday(bd)\n",
    "print(day)\n",
    "\n",
    "\n"
   ]
  }
 ],
 "metadata": {
  "kernelspec": {
   "display_name": "Python 3",
   "language": "python",
   "name": "python3"
  },
  "language_info": {
   "codemirror_mode": {
    "name": "ipython",
    "version": 3
   },
   "file_extension": ".py",
   "mimetype": "text/x-python",
   "name": "python",
   "nbconvert_exporter": "python",
   "pygments_lexer": "ipython3",
   "version": "3.5.4"
  }
 },
 "nbformat": 4,
 "nbformat_minor": 2
}
