{
 "cells": [
  {
   "cell_type": "markdown",
   "metadata": {},
   "source": [
    "# Section 2.4: Powerful Output Formatting\n",
    "* `%d %e %E %f %F %c %s %%`\n",
    "* `str.format()`\n",
    "\n",
    "### Students will be able to:\n",
    "* Format output, including:\n",
    "  * Formatting numbers\n",
    "  * Formatting strings\n",
    "  * Padding\n",
    "  * Alignment\n",
    "* Format strings using old-style `printf` formatting\n",
    "* Format strings using new style formatting"
   ]
  },
  {
   "cell_type": "markdown",
   "metadata": {},
   "source": [
    "---\n",
    "<font size=\"6\" color=\"#00A0B2\"  face=\"verdana\"> <B>Concepts</B></font>  \n",
    "\n",
    "\n",
    "## Using Old-Style Formatting\n",
    "\n",
    "\n",
    "[![view video](https://iajupyterprodblobs.blob.core.windows.net/imagecontainer/common/play_video.png)](https://www.youtube.com/watch?v=xQTmQ6DCTVo)\n",
    "\n",
    "There are many ways to display output in Python. The easiest way is to use the `print` function and pass the items you want to display as comma-separated arguments. For example, say you wrote a program to compute the fuel efficiency of a car using the number of gallons `g` it consumes per `m` miles. You can display the output using the following statement:\n",
    "\n",
    "```python\n",
    "In [0]: g = 4 #gallons of gas\n",
    "In [1]: m = 127.3 #miles\n",
    "In [2]: print('The fuel efficiency of a car consuming', g ,'gallons of gas for every', m, ' miles =', m/g, 'MPG')\n",
    "\n",
    "The fuel efficiency of a car consuming 4 gallons of gas for every 127.3 miles = 31.825 MPG\n",
    "```\n",
    "\n",
    "This was pretty easy; however, you did not have control over the precision or alignment of the printed numbers. Fortunately, Python supports a number of ways to format strings. In this section, you will learn how to use the old-style formatting that is common among other programming languages such as C.\n",
    "\n",
    "Generally speaking, you will use positional format placeholders that will be replaced by the values you want to display. You can rewrite the preceding program as follows:\n",
    "\n",
    "```python\n",
    "In [0]: g = 4 #gallons of gas\n",
    "In [1]: m = 127.3 #miles\n",
    "In [2]: print('The fuel efficiency of a car consuming %d gallons of gas for every %4.2f  miles = %4.2f MPG' % (g, m, m/g))\n",
    "\n",
    "The fuel efficiency of a car consuming 4 gallons of gas for every 127.30 miles = 31.82 MPG\n",
    "```\n",
    "\n",
    "You can clearly identify three format placeholders in the string; each starts with `%`. The string is followed by the modulo operator `%` and a tuple containing the values that should replace the placeholders in order. The following table shows these placeholders and the values that replaced them.\n",
    "\n",
    "|Format placeholder | Replaced by|\n",
    "|----|----|\n",
    "|`%d`| `g`|\n",
    "|`%4.2f`|`m`|\n",
    "|`%4.2f`|`m/g`|\n",
    "\n",
    "The placeholder syntax might seem cryptic at a first glance; however, it is not that complicated. All of the previous placeholders are replaced by numbers that are displayed with certain precision. Each placeholder has the following pattern:\n",
    "\n",
    "`%[flags][width][.precision]type`\n",
    "\n",
    "For example, the number of miles `m` is formatted as `%4.2f` which means: \n",
    "* No flags are used\n",
    "* The total number of characters (including the `.`) that should be displayed is (width = 4)\n",
    "* The number of decimal digits is (precision = 2)\n",
    "* The numerical value type is float (f)\n",
    "\n",
    "If you use the format placeholder `%08.3f` instead, you will increase the number of `char` displayed to 8, padded with zeros on the left, and the precision to 3 decimal points.\n",
    "\n",
    "```python\n",
    "In [0]: g = 4 #gallons of gas\n",
    "In [1]: m = 127.3 #miles\n",
    "In [2]: print('The fuel efficiency of a car consuming %d gallons of gas for every %08.3f miles = %4.2f MPG' % (g, m, m/g))\n",
    "\n",
    "The fuel efficiency of a car consuming 4 gallons of gas for every 0127.300 miles = 31.82 MPG\n",
    "```\n",
    "\n",
    "The following tables show commonly used flags and types. The Python Documentation site at https://docs.python.org/3/library/stdtypes.html#printf-style-string-formatting has a complete listing.\n",
    "\n",
    "|Flag| Meaning|\n",
    "|---|---|\n",
    "|0| The conversion will be padded by zeros for numeric values|\n",
    "|-| The converted value is left adjusted|\n",
    "|' '| A blank will be placed in front of positive numbers, `-` will be placed in front of negative numbers|\n",
    "|+| A sign (+ or -) will be placed in front of the converted number|\n",
    "\n",
    "\n",
    "|Type| Meaning|\n",
    "|---|---|\n",
    "|d| Signed integer |\n",
    "|i| Signed integer |\n",
    "|e| Floating point exponential format (lowercase)|\n",
    "|E| Floating point exponential format (uppercase)|\n",
    "|f| Floating point decimal format|\n",
    "|F| Floating point decimal format|\n",
    "|c| Single character (accepts integer or single character string)|\n",
    "|s| String|\n",
    "|%| No argument is converted, results in a % character in the result|"
   ]
  },
  {
   "cell_type": "markdown",
   "metadata": {},
   "source": [
    "---\n",
    "<font size=\"6\" color=\"#00A0B2\"  face=\"verdana\"> <B>Examples</B></font>\n"
   ]
  },
  {
   "cell_type": "markdown",
   "metadata": {},
   "source": [
    "### Formatting numbers\n",
    "In the following examples, the same sentence is generated using different format placeholders for the same year and price. For each example, compare the generated output to the format placeholders."
   ]
  },
  {
   "cell_type": "code",
   "execution_count": null,
   "metadata": {},
   "outputs": [],
   "source": [
    "year = 2017\n",
    "price = 2.42011\n",
    "print('The national average gas price in %d was $ %f' % (year, price))"
   ]
  },
  {
   "cell_type": "code",
   "execution_count": null,
   "metadata": {},
   "outputs": [],
   "source": [
    "year = 2017\n",
    "price = 2.42011\n",
    "print('The national average gas price in %i was $ %3.2f' % (year, price))"
   ]
  },
  {
   "cell_type": "code",
   "execution_count": null,
   "metadata": {},
   "outputs": [],
   "source": [
    "year = 2017\n",
    "price = 2.42011\n",
    "print('The national average gas price in %i was $ %08.2F' % (year, price))"
   ]
  },
  {
   "cell_type": "code",
   "execution_count": null,
   "metadata": {},
   "outputs": [],
   "source": [
    "year = 2017\n",
    "price = 2.42011\n",
    "print('The national average gas price in %d was $ %e' % (year, price))"
   ]
  },
  {
   "cell_type": "code",
   "execution_count": null,
   "metadata": {},
   "outputs": [],
   "source": [
    "year = 2017\n",
    "price = 2.42011\n",
    "print('The national average gas price in %d was $ %3.2e' % (year, price))"
   ]
  },
  {
   "cell_type": "code",
   "execution_count": null,
   "metadata": {},
   "outputs": [],
   "source": [
    "year = 2017\n",
    "price = 2.42011\n",
    "print('The national average gas price in %d was $ %3.2E' % (year, price))"
   ]
  },
  {
   "cell_type": "markdown",
   "metadata": {},
   "source": [
    "### Formatting strings and characters\n",
    "In the following example, names are formatted using different format placeholders. Compare the generated output to the format placeholders."
   ]
  },
  {
   "cell_type": "code",
   "execution_count": null,
   "metadata": {
    "scrolled": true
   },
   "outputs": [],
   "source": [
    "first_name = input(\"Enter your first name: \")\n",
    "last_name = input(\"Enter your last name: \")\n",
    "print('The first name starts with: %c' % (first_name[0]))\n",
    "print('The last name ends with the 2 chars: %s' %(last_name[-2:]))"
   ]
  },
  {
   "cell_type": "markdown",
   "metadata": {},
   "source": [
    "### Alignment\n",
    "In the following example, output is formatted using different alignment flags. Compare the generated output to the format placeholders."
   ]
  },
  {
   "cell_type": "code",
   "execution_count": null,
   "metadata": {},
   "outputs": [],
   "source": [
    "from math import pi\n",
    "\n",
    "print(\"Right adjusted: %20.2f\" %(pi))\n",
    "print(\"Left adjusted: %-20.2f\" %(pi))"
   ]
  },
  {
   "cell_type": "markdown",
   "metadata": {},
   "source": [
    "---\n",
    "<font size=\"6\" color=\"#B24C00\"  face=\"verdana\"> <B>Task 1</B></font>\n",
    "\n",
    "## Using Old-Style formatting\n"
   ]
  },
  {
   "cell_type": "markdown",
   "metadata": {},
   "source": [
    "### Number formatting and alignment"
   ]
  },
  {
   "cell_type": "code",
   "execution_count": null,
   "metadata": {},
   "outputs": [],
   "source": [
    "# [ ] Use the variables `F` and `C` to generate the following print outputs\n",
    "'''\n",
    "75 Fahrenheit = 23.888900 Celsius\n",
    "75 Fahrenheit = 23.89 Celsius\n",
    "75 Fahrenheit = 000023.889 Celsius\n",
    "75 Fahrenheit = 23.889     Celsius\n",
    "75 Fahrenheit =     23.889 Celsius\n",
    "75 Fahrenheit = 2.389E+01 Celsius\n",
    "75 Fahrenheit = 2.389e+01 Celsius\n",
    "'''\n",
    "\n",
    "F = 75\n",
    "C = 23.8889\n",
    "\n"
   ]
  },
  {
   "cell_type": "markdown",
   "metadata": {},
   "source": [
    "### string formatting and alignment"
   ]
  },
  {
   "cell_type": "code",
   "execution_count": null,
   "metadata": {},
   "outputs": [],
   "source": [
    "# [ ] Use the string variables below to generate the following print outputs\n",
    "# HINT: Set the name formatter width to 10 characters\n",
    "\n",
    "first_name = 'Tamara'\n",
    "last_name = 'Babic'\n",
    "\n",
    "'''\n",
    "Name: Tamara Babic\n",
    "Name:     Tamara      Babic\n",
    "Name: Tamara          Babic\n",
    "Name:     Tamara Babic     \n",
    "Name: Tamara     Babic     \n",
    "Name: Tamara Babic\n",
    "'''   \n",
    "\n"
   ]
  },
  {
   "cell_type": "markdown",
   "metadata": {},
   "source": [
    "### Personnel information printout"
   ]
  },
  {
   "cell_type": "code",
   "execution_count": null,
   "metadata": {},
   "outputs": [],
   "source": [
    "# [ ] The list `data` contains personnel information (Name, ID, email)\n",
    "# Write a program to print out the data as follows:\n",
    "'''\n",
    "Name                 ID         Email               \n",
    "--------------------------------------------------\n",
    "Suresh Datta         57394      suresh@example.com  \n",
    "Colette Browning     48539      colette@example.com \n",
    "Skye Homsi           58302      skye@example.com    \n",
    "Hiroto Yamaguchi     48502      hiroto@example.com  \n",
    "Tobias Ledford       48291      tobias@example.com  \n",
    "Jin Xu               48293      jin@example.com     \n",
    "Joana Dias           23945      joana@example.com   \n",
    "Alton Derosa         85823      alton@example.com \n",
    "'''\n",
    "\n",
    "data = [[\"Suresh Datta\", 57394, \"suresh@example.com\"], [\"Colette Browning\", 48539, \"colette@example.com\"], [\"Skye Homsi\", 58302, \"skye@example.com\"], [\"Hiroto Yamaguchi\", 48502, \"hiroto@example.com\"], [\"Tobias Ledford\", 48291, \"tobias@example.com\", \"Tamara Babic\", 58201, \"tamara@example.com\"], [\"Jin Xu\", 48293, \"jin@example.com\"], [\"Joana Dias\", 23945, \"joana@example.com\"], [\"Alton Derosa\", 85823, \"alton@example.com\"]]\n",
    "\n",
    "\n"
   ]
  },
  {
   "cell_type": "markdown",
   "metadata": {},
   "source": [
    "---\n",
    "<font size=\"6\" color=\"#00A0B2\"  face=\"verdana\"> <B>Concepts</B></font>  \n",
    "\n",
    "\n",
    "## Using Python-Style Formatting\n",
    "\n",
    "\n",
    "[![view video](https://iajupyterprodblobs.blob.core.windows.net/imagecontainer/common/play_video.png)](https://www.youtube.com/watch?v=QQBxiN_17yc)\n",
    "\n",
    "The old-style formatting you saw has some restrictions. Python comes with a much more flexible string-formatting method: `str.format()`. This method gives you much more control over how to format a print output. The general form of this style is:\n",
    "\n",
    "`string_sequence.format(p0, p1, ..., k0=v0, k1=v1, ...)`\n",
    "\n",
    "The `string_sequence` variable contains format placeholders and the string you are trying to display. The format placeholders are similar to those used in the old-style formatting; however, you do not need to use the `%` operator in the Python formatting style.\n",
    "\n",
    "The following examples demonstrate a few ways to write and replace placeholders:\n",
    "\n",
    "#### Without position index, Without formatting string \n",
    "Use `{}` as a placeholder within the string wherever you want a variable value to appear. Then pass the variables you want to display as positional arguments to the `.format()` method; the variables must be passed in order.\n",
    "\n",
    "```python\n",
    "In [0]: g = 4 #gallons of gas\n",
    "In [1]: m = 127.3 #miles\n",
    "In [2]: print('The fuel efficiency of a car consuming {} gallons of gas for every {} miles = {} MPG'.format(g, m, m/g))\n",
    "\n",
    "The fuel efficiency of a car consuming 4 gallons of gas for every 127.3 miles = 31.825 MPG\n",
    "```\n",
    "\n",
    "#### Without position index, With formatting string\n",
    "Use `{:4.2f}` as a placeholder, then pass the variables you want to display as positional arguments to the `.format()` method. Note that the placeholder starts with `:`, followed by a formatting string similar to that of an old-style formatter. This method is the closest to the old-style formatting style.\n",
    "\n",
    "```python\n",
    "In [0]: g = 4 #gallons of gas\n",
    "In [1]: m = 127.3 #miles\n",
    "In [2]: print('The fuel efficiency of a car consuming {:d} gallons of gas for every {:4.2f} miles = {:4.2f} MPG'.format(g, m, m/g))\n",
    "\n",
    "The fuel efficiency of a car consuming 4 gallons of gas for every 127.30 miles = 31.82 MPG\n",
    "```\n",
    "\n",
    "#### With position index, With formatting string\n",
    "Use `{0:4.2f}` as a placeholder, then pass the variables you want to display as positional arguments to the `.format()` method. Note that the placeholder starts with an index, followed by `:`, followed by a formatting string similar to that of an old-style formatter.\n",
    "\n",
    "```python\n",
    "In [0]: g = 4 #gallons of gas\n",
    "In [1]: m = 127.3 #miles\n",
    "In [2]: print('The fuel efficiency of a car consuming {0:d} gallons of gas for every {1:4.2f} miles = {2:4.2f} MPG'.format(g, m, m/g))\n",
    "\n",
    "The fuel efficiency of a car consuming 4 gallons of gas for every 127.30 miles = 31.82 MPG\n",
    "```\n",
    "\n",
    "The indices `0, 1, 2` refer to the order of the variables passed to the `.format()` method. For example, index `0` refer to the first variable passed, index `1` refer to the second variable passed, and so on. The indices can appear in the `string_sequence` in any order. For example, in the code below you will see the placeholders use variable index `1`, then index `2`, and finally index `0` to refer to `g`, `m`, `m/g` respectively.\n",
    "\n",
    "```python\n",
    "In [0]: g = 4 #gallons of gas\n",
    "In [1]: m = 127.3 #miles\n",
    "In [2]: print('The fuel efficiency of a car consuming {1:d} gallons of gas for every {2:4.2f} miles = {0:4.2f} MPG'.format(m/g, g, m))\n",
    "\n",
    "The fuel efficiency of a car consuming 4 gallons of gas for every 127.30 miles = 31.82 MPG\n",
    "```\n",
    "\n",
    "### Using keywords\n",
    "You can use a keyword instead of an index in the placeholder `{a:4.2f}`, then pass the variables you want to display as key/value pairs to the `.format()` method.\n",
    "\n",
    "```python\n",
    "In [0]: g = 4 #gallons of gas\n",
    "In [1]: m = 127.3 #miles\n",
    "In [2]: print('The fuel efficiency of a car consuming {a:d} gallons of gas for every {b:4.2f} miles = {c:4.2f} MPG'.format(a = g, b = m, c = m/g))\n",
    "\n",
    "The fuel efficiency of a car consuming 4 gallons of gas for every 127.30 miles = 31.82 MPG\n",
    "```\n",
    "\n",
    "\n",
    "### Using flags\n",
    "\n",
    "The formatter string in the placeholder follows a similar syntax to that of the old-style formatter.\n",
    "\n",
    "`:[flags][width][.precision]type`\n",
    "\n",
    "The following table shows commonly used flags for the Python display style\n",
    "\n",
    "|Flag| Meaning|\n",
    "|---|---|\n",
    "|<| Left-align within available space|\n",
    "|>| Right-align within available space|\n",
    "|^| Center-align within available space|\n",
    "|0| The conversion will be padded by zeros for numeric values|\n",
    "|,| Use a comma as thousands separator|\n",
    "|' '| A blank will be placed in front of positive numbers, `-` will be placed in front of negative numbers|\n",
    "|+| A sign (+ or -) will be placed in front of the converted number|"
   ]
  },
  {
   "cell_type": "markdown",
   "metadata": {},
   "source": [
    "---\n",
    "<font size=\"6\" color=\"#00A0B2\"  face=\"verdana\"> <B>Examples</B></font>\n"
   ]
  },
  {
   "cell_type": "markdown",
   "metadata": {},
   "source": [
    "### Formatting numbers\n",
    "In the following examples, we repeat some of the old-style formatting examples using the new style formatting."
   ]
  },
  {
   "cell_type": "code",
   "execution_count": null,
   "metadata": {},
   "outputs": [],
   "source": [
    "year = 2017\n",
    "price = 2.42011\n",
    "print('The national average gas price in {:d} was $ {:f}'.format(year, price))"
   ]
  },
  {
   "cell_type": "code",
   "execution_count": null,
   "metadata": {},
   "outputs": [],
   "source": [
    "year = 2017\n",
    "price = 2.42011\n",
    "print('The national average gas price in {0:d} was $ {1:3.2F}'.format(year, price))"
   ]
  },
  {
   "cell_type": "code",
   "execution_count": null,
   "metadata": {},
   "outputs": [],
   "source": [
    "year = 2017\n",
    "price = 2.42011\n",
    "print('The national average gas price in {y:d} was $ {p:1.2e}'.format(y = year, p = price))"
   ]
  },
  {
   "cell_type": "code",
   "execution_count": null,
   "metadata": {},
   "outputs": [],
   "source": [
    "year = 2017\n",
    "price = 2.42011\n",
    "print('The national average gas price in {:d} was $ {:010.2f}'.format(year, price))"
   ]
  },
  {
   "cell_type": "markdown",
   "metadata": {},
   "source": [
    "### Formatting strings\n",
    "The character conversion type `c` is not supported in the new formatting style. Use the string conversion type `s` as in the following example:"
   ]
  },
  {
   "cell_type": "code",
   "execution_count": null,
   "metadata": {},
   "outputs": [],
   "source": [
    "first_name = input(\"Enter your first name: \")\n",
    "last_name = input(\"Enter your last name: \")\n",
    "print('The first name starts with: {:s}'.format(first_name[0]))\n",
    "print('The last name ends with the 2 chars: {:s}'.format(last_name[-2:]))"
   ]
  },
  {
   "cell_type": "markdown",
   "metadata": {},
   "source": [
    "### Setting alignment\n",
    "The old-style formatting allows you to right-align and left-align output. The new formatting style also allows you to center-align output."
   ]
  },
  {
   "cell_type": "code",
   "execution_count": null,
   "metadata": {},
   "outputs": [],
   "source": [
    "from math import pi\n",
    "\n",
    "print('Right adjusted : {:<20.2f}'.format(pi))\n",
    "print('Center adjusted: {:^20.2f}'.format(pi))\n",
    "print('Left adjusted  : {:>20.2f}'.format(pi))"
   ]
  },
  {
   "cell_type": "markdown",
   "metadata": {},
   "source": [
    "### Setting padding and alignment"
   ]
  },
  {
   "cell_type": "code",
   "execution_count": null,
   "metadata": {},
   "outputs": [],
   "source": [
    "from math import pi\n",
    "\n",
    "# Padding with zeros\n",
    "\n",
    "print('Right adjusted : {:0<20.2f}'.format(pi))\n",
    "print('Center adjusted: {:0^20.2f}'.format(pi))\n",
    "print('Left adjusted  : {:0>20.2f}'.format(pi))"
   ]
  },
  {
   "cell_type": "code",
   "execution_count": null,
   "metadata": {},
   "outputs": [],
   "source": [
    "from math import pi\n",
    "\n",
    "# Padding with underscore characters\n",
    "\n",
    "print('Right adjusted : {:_<20.2f}'.format(pi))\n",
    "print('Center adjusted: {:_^20.2f}'.format(pi))\n",
    "print('Left adjusted  : {:_>20.2f}'.format(pi))"
   ]
  },
  {
   "cell_type": "markdown",
   "metadata": {},
   "source": [
    "---\n",
    "<font size=\"6\" color=\"#B24C00\"  face=\"verdana\"> <B>Task 2</B></font>\n",
    "\n",
    "## Using Python-Style Formatting"
   ]
  },
  {
   "cell_type": "markdown",
   "metadata": {},
   "source": [
    "### Number formatting and alignment"
   ]
  },
  {
   "cell_type": "code",
   "execution_count": null,
   "metadata": {},
   "outputs": [],
   "source": [
    "# [ ] Use Python-style formatting and the variables `F` and `C` to generate the following print outputs\n",
    "'''\n",
    "75 Fahrenheit = 23.888900 Celsius\n",
    "75 Fahrenheit = 23.89 Celsius\n",
    "75 Fahrenheit = 0000023.89 Celsius\n",
    "75 Fahrenheit = 23.889     Celsius\n",
    "75 Fahrenheit =   23.889   Celsius\n",
    "75 Fahrenheit =     23.889 Celsius\n",
    "75 Fahrenheit = 2.389E+01 Celsius\n",
    "'''\n",
    "\n",
    "F = 75\n",
    "C = 23.8889\n",
    "\n"
   ]
  },
  {
   "cell_type": "markdown",
   "metadata": {},
   "source": [
    "### String formatting and alignment"
   ]
  },
  {
   "cell_type": "code",
   "execution_count": null,
   "metadata": {},
   "outputs": [],
   "source": [
    "# [ ] Use Python-style formatting and the string variables below to generate the following print outputs\n",
    "# HINT: Set the name formatter width to 10 characters\n",
    "\n",
    "first_name = 'Tamara'\n",
    "last_name = 'Babic'\n",
    "\n",
    "'''\n",
    "Name: Tamara Babic\n",
    "Name: Tamara          Babic\n",
    "Name: Tamara____ _____Babic\n",
    "Name: __Tamara__ __Babic___\n",
    "Name: ____Tamara Babic_____\n",
    "Name:     Tamara Babic     \n",
    "'''   \n",
    "\n"
   ]
  },
  {
   "cell_type": "markdown",
   "metadata": {},
   "source": [
    "### Personnel information printout"
   ]
  },
  {
   "cell_type": "code",
   "execution_count": null,
   "metadata": {},
   "outputs": [],
   "source": [
    "# [ ] The list `data` contains personnel information (Name, ID, email)\n",
    "# Write a program using Python-style formatting to print out the data as follows:\n",
    "'''\n",
    "        Name         |     ID     |        Email        \n",
    "________________________________________________________\n",
    "    Suresh Datta     |   57394    |   suresh@example.com\n",
    "  Colette Browning   |   48539    |  colette@example.com\n",
    "     Skye Homsi      |   58302    |     skye@example.com\n",
    "  Hiroto Yamaguchi   |   48502    |   hiroto@example.com\n",
    "   Tobias Ledford    |   48291    |   tobias@example.com\n",
    "       Jin Xu        |   48293    |      jin@example.com\n",
    "     Joana Dias      |   23945    |    joana@example.com\n",
    "    Alton Derosa     |   85823    |    alton@example.com\n",
    "'''\n",
    "\n",
    "data = [[\"Suresh Datta\", 57394, \"suresh@example.com\"], [\"Colette Browning\", 48539, \"colette@example.com\"], [\"Skye Homsi\", 58302, \"skye@example.com\"], [\"Hiroto Yamaguchi\", 48502, \"hiroto@example.com\"], [\"Tobias Ledford\", 48291, \"tobias@example.com\", \"Tamara Babic\", 58201, \"tamara@example.com\"], [\"Jin Xu\", 48293, \"jin@example.com\"], [\"Joana Dias\", 23945, \"joana@example.com\"], [\"Alton Derosa\", 85823, \"alton@example.com\"]]\n",
    "\n",
    "\n"
   ]
  }
 ],
 "metadata": {
  "kernelspec": {
   "display_name": "Python 3",
   "language": "python",
   "name": "python3"
  },
  "language_info": {
   "codemirror_mode": {
    "name": "ipython",
    "version": 3
   },
   "file_extension": ".py",
   "mimetype": "text/x-python",
   "name": "python",
   "nbconvert_exporter": "python",
   "pygments_lexer": "ipython3",
   "version": "3.5.4"
  }
 },
 "nbformat": 4,
 "nbformat_minor": 2
}
