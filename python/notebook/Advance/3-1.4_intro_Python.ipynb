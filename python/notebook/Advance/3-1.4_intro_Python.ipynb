{
 "cells": [
  {
   "cell_type": "markdown",
   "metadata": {},
   "source": [
    "# Section 1.4: File System\n",
    "* sys.platform\n",
    "* os: os.getcwd, os.chdir, os.listdir, os.mkdir, os.rmdir, os.rename\n",
    "* os.path: os.path.abspath, os.path.exists, os.path.isfile, os.path.isdir\n",
    "\n",
    "### Students will be able to:\n",
    "* Identify the platform running a Python script ('Linux', 'win32', 'Darwin')\n",
    "* Get the current working directory\n",
    "* Change the current working directory\n",
    "* List the content of the current working directory\n",
    "* Create a new directory\n",
    "* Remove a directory\n",
    "* Rename files and directories\n",
    "* Recognize the difference between relative and absolute paths\n",
    "* Test whether a path exists\n",
    "* Test whether a specific file or directory exists\n"
   ]
  },
  {
   "cell_type": "markdown",
   "metadata": {},
   "source": [
    "---\n",
    "<font size=\"6\" color=\"#00A0B2\"  face=\"verdana\"> <B>Concepts</B></font>  \n",
    "\n",
    "\n",
    "## Platform Identification\n",
    "\n",
    "[![view video](https://iajupyterprodblobs.blob.core.windows.net/imagecontainer/common/play_video.png)](https://www.youtube.com/watch?v=WMcYrAkOI78)\n",
    "\n",
    "In recent years, when you reach the download page of a website, you are directed to download a file that matches your operating system. For example, when using a Windows computer, download links direct you to .exe files; similarly, when using a Mac, you download links direct you to .dmg files. This code awareness makes the user experience more pleasant.\n",
    "\n",
    "Python scripts can run on different platforms, including Windows, Mac, and Linux. The `sys` module provides access to several system variables, including the platform. If you know the platform your Python code is running on, you may be able to change the behavior of your application to accommodate that platform."
   ]
  },
  {
   "cell_type": "markdown",
   "metadata": {},
   "source": [
    "---\n",
    "<font size=\"6\" color=\"#00A0B2\"  face=\"verdana\"> <B>Examples</B></font>\n",
    "\n",
    "### Identifying the platform"
   ]
  },
  {
   "cell_type": "code",
   "execution_count": null,
   "metadata": {},
   "outputs": [],
   "source": [
    "import sys\n",
    "\n",
    "print(sys.platform)"
   ]
  },
  {
   "cell_type": "markdown",
   "metadata": {},
   "source": [
    "---\n",
    "<font size=\"6\" color=\"#00A0B2\"  face=\"verdana\"> <B>Concepts</B></font>  \n",
    "\n",
    "\n",
    "## Directory Operations\n",
    "\n",
    "[![view video](https://iajupyterprodblobs.blob.core.windows.net/imagecontainer/common/play_video.png)](https://www.youtube.com/watch?v=6z8R_LlhmMU)\n",
    "\n",
    "Most operating systems organize files in hierarchical structures. For example, directories (also known as folders) may contain other directories and files. The Python `os` module contains some useful functions to navigate and manipulate files and directories. In the following sections, you will see how to perform some basic directory operations.\n",
    "\n",
    "#### Finding and changing the current working directory\n",
    "When navigating the hierarchical file system, you will always be located in a directory. The directory you're in is referred to as the \"current working directory\", or \"cwd\" for short. Python's `os.getcwd()` nethod returns a string containing the current working directory path.\n",
    "\n",
    "The working directory can be changed in Python using `os.chdir(path)`, which changes the cwd into `path`, which is a string variable containing a path to the new working directory.\n",
    "\n",
    "NOTE: When changing a working directory, you can specify `..` as your path. This effectively changes the working directory one level up into the parent directory.\n",
    "\n",
    "#### Listing the content of a directory\n",
    "You might need to access or read the content of a directory. The `os.listdir()` method returns a list of the files and directories in the current working directory.\n",
    "\n",
    "#### Creating and removing directories\n",
    "In Python, a new directory can be created manually using `os.mkdir(path)`, where `path` is the path and name of the new directory. Similarly, a directory can be removed using `os.rmdir(path)`, where `path` is the name of the directory to be deleted. Note that `rmdir` can delete only empty directories; if the directory specified by path is not empty, an error will be raised.\n",
    "\n",
    "#### Renaming files and directories\n",
    "Many tasks can be automated by Python. For example, if you want to rename a large number of files to match a predefined pattern, you can use Python's `os.rename(src, dst)` method, in which `src` is a string containing the path of a source file or directory, and `dst` is a string containing the new (destination) path and/or name."
   ]
  },
  {
   "cell_type": "markdown",
   "metadata": {},
   "source": [
    "---\n",
    "<font size=\"6\" color=\"#00A0B2\"  face=\"verdana\"> <B>Examples</B></font>\n"
   ]
  },
  {
   "cell_type": "markdown",
   "metadata": {},
   "source": [
    "### Directory structure\n",
    "The examples in this lesson traverse through the following directory structure. \n",
    "\n",
    "parent_dir\n",
    "    \n",
    "    |__  child1_dir\n",
    "    |    |\n",
    "    |    |_ leaf1.txt\n",
    "    |\n",
    "    |__ child2_dir\n",
    "    |    |\n",
    "    |    |_ leaf2.txt\n",
    "    |\n",
    "    |__ parent_leaf.txt\n",
    "    |\n",
    "    |__ text_file.txt\n",
    "\n",
    "#### Directories\n",
    "The directories in this structure are parent_dir, child1_dir, and child2_dir.\n",
    "\n",
    "#### Files\n",
    "The files in this structure are leaf1.txt, leaf2.txt, parent_leaf.txt, and text_file.txt."
   ]
  },
  {
   "cell_type": "markdown",
   "metadata": {},
   "source": [
    "### Working directory\n",
    "In this example, you will change the current working directory to parent_dir, then to child1_dir, then back to parent_dir. You will also see a printout of the current working directory at every step."
   ]
  },
  {
   "cell_type": "code",
   "execution_count": null,
   "metadata": {},
   "outputs": [],
   "source": [
    "import os\n",
    "\n",
    "# Change the current working directory to parent dir\n",
    "os.chdir('parent_dir')\n",
    "print('Changed working dir to parent: ', os.getcwd())\n",
    "\n",
    "# Change the current working directory to child1 dir\n",
    "os.chdir('child1_dir')\n",
    "print('Changed working dir to child1: ', os.getcwd())\n",
    "\n",
    "# Change the current working directory back to the parent dir\n",
    "os.chdir('..')\n",
    "print('Changed working dir back to parent: ', os.getcwd())"
   ]
  },
  {
   "cell_type": "markdown",
   "metadata": {},
   "source": [
    "### Directory content\n",
    "In this example, you will list the content of the current working directory (parent_dir)."
   ]
  },
  {
   "cell_type": "code",
   "execution_count": null,
   "metadata": {},
   "outputs": [],
   "source": [
    "import os\n",
    "\n",
    "# Print the current working directory (should be \"parent_dir\")\n",
    "print('The current working directory is:', os.getcwd())\n",
    "\n",
    "# List the content of the directory (both files and other directories)\n",
    "print('Current directory content: ', os.listdir())"
   ]
  },
  {
   "cell_type": "markdown",
   "metadata": {},
   "source": [
    "### Creating and removing directories\n",
    "In this example, you will create and remove directories."
   ]
  },
  {
   "cell_type": "code",
   "execution_count": null,
   "metadata": {},
   "outputs": [],
   "source": [
    "import os\n",
    "\n",
    "# Print the current working directory (should be \"parent_dir\")\n",
    "print('The current working directory is:', os.getcwd())\n",
    "\n",
    "# Create a new directory \n",
    "os.mkdir('new_child')\n",
    "print('Created new_child dir')\n",
    "\n",
    "# List the content of the directory\n",
    "print('Current directory content: ', os.listdir())\n",
    "\n",
    "# Remove the new child directory\n",
    "os.rmdir('new_child')\n",
    "print('Removed new_child dir')\n",
    "\n",
    "# List the content of the directory\n",
    "print('Current directory content: ', os.listdir())"
   ]
  },
  {
   "cell_type": "markdown",
   "metadata": {},
   "source": [
    "### Renaming directories\n",
    "In this example, you will create a new directory, and then change its name."
   ]
  },
  {
   "cell_type": "code",
   "execution_count": null,
   "metadata": {},
   "outputs": [],
   "source": [
    "import os\n",
    "\n",
    "# Print the current working directory (should be \"parent_dir\")\n",
    "print('The current working directory is:', os.getcwd())\n",
    "\n",
    "# Create a new directory \n",
    "os.mkdir('new_child')\n",
    "print('Created new_child dir')\n",
    "\n",
    "# List the content of the directory\n",
    "print('Current directory content:', os.listdir())\n",
    "\n",
    "# Rename new_child as old_child\n",
    "os.rename('new_child', 'old_child')\n",
    "print('Renamed new_child as old_child')\n",
    "# List the content of the dir\n",
    "print('Current directory content: ', os.listdir())\n",
    "\n",
    "# Remove the old_child dir\n",
    "os.rmdir('old_child')\n",
    "print('Removed old_child dir')\n",
    "print('Current directory content: ', os.listdir())"
   ]
  },
  {
   "cell_type": "markdown",
   "metadata": {},
   "source": [
    "---\n",
    "<font size=\"6\" color=\"#B24C00\"  face=\"verdana\"> <B>Task 1</B></font>\n",
    "\n",
    "## Directory Operations\n"
   ]
  },
  {
   "cell_type": "code",
   "execution_count": null,
   "metadata": {},
   "outputs": [],
   "source": [
    "# [ ] Write a program to:\n",
    "# 1) Prompt the user for a directory name\n",
    "# 2) Create the directory\n",
    "# 3) Verify the directory was created by listing the content of the current working directory\n",
    "# 4) Remove the created directory\n",
    "# 5) Verify the directory was removed by listing the content of the current working directory\n",
    "\n"
   ]
  },
  {
   "cell_type": "code",
   "execution_count": null,
   "metadata": {},
   "outputs": [],
   "source": [
    "# [ ] Write a program to:\n",
    "# 1) Create a directory called \"my_dir\"\n",
    "# 2) Change the current working directory to \"my_dir\"\n",
    "# 3) Verify you are in the correct directory by displaying the current working directory\n",
    "# 4) Change the working directory back to the parent directory\n",
    "# 5) Verify you are in the correct directory by displaying the current working directory\n",
    "# 6) Rename \"my_dir\" to \"your_dir\"\n",
    "# 7) Verify the directory was renamed by listing the content of the current working directory\n",
    "# 8) Remove \"your_dir\"\n",
    "# 9) Verify the directory was removed by listing the content of the current working directory\n",
    "\n",
    "\n"
   ]
  },
  {
   "cell_type": "markdown",
   "metadata": {},
   "source": [
    "---\n",
    "<font size=\"6\" color=\"#00A0B2\"  face=\"verdana\"> <B>Concepts</B></font>  \n",
    "\n",
    "\n",
    "## Path Operations\n",
    "\n",
    "[![view video](https://iajupyterprodblobs.blob.core.windows.net/imagecontainer/common/play_video.png)](https://www.youtube.com/watch?v=uVYFuOaO4Mg)\n",
    "\n",
    "#### Relative and absolute paths\n",
    "A file or directory has a name and a path, which is just a roadmap to its specific location in the file system. Most operating systems, support two types of paths:\n",
    "* Relative paths: path to a file or directory from a specific location (or current working directory)\n",
    "* Absolute paths: path to a file or directory from a root. In UNIX flavors, a root is \"/\"; whereas, on Windows machines a root is \"C:\\\"\n",
    "\n",
    "For example, consider the UNIX directory structure we have been manipulating:\n",
    "\n",
    "    /\n",
    "    |\n",
    "    |__ parent_dir\n",
    "        |\n",
    "        |__  child1_dir\n",
    "        |    |\n",
    "        |    |_ leaf1.txt\n",
    "        |\n",
    "        |__ child2_dir\n",
    "        |    |\n",
    "        |    |_ leaf2.txt\n",
    "        |\n",
    "        |__ parent_leaf.txt\n",
    "        |\n",
    "        |__ text_file.txt\n",
    "    \n",
    "If you are currently in parent_dir and trying to get to leaf1.txt, the relative path would be (child1_dir/leaf1.txt). It's a relative path because it is relative to your current location.\n",
    "\n",
    "The absolute path to leaf1.txt is (/parent_dir/child1_dir/leaf1.txt), it starts from the root \"/\" all the way to the destination file. It's absolute because it starts from the absolute root.\n",
    "\n",
    "In Python, you can use relative or absolute paths; however, it might be useful to convert a relative path into an absolute path using the function `os.path.abspath(path)`. The function returns a string containing the absolute path to a file or directory specified by the relative path passed as an argument.\n",
    "\n",
    "```python\n",
    "In [1]: import os.path\n",
    "In [2]: os.path.abspath('child1_dir/leaf1.txt')\n",
    "Out[2]: '/parent_dir/child1_dir/leaf1.txt'\n",
    "```\n",
    "\n",
    "#### Testing the existence of paths, files, and directories\n",
    "The module `os.path` contains common pathname manipulation functions. For example, `os.path.exists(path)` tests whether `path` (relative or absolute) exists in the file system, `os.path.isfile(path)` returns `True` if `path` (relative or absolute) refers to an existing file, and `os.path.isdir(path)` returns `True` if `path` refers to an existing directory. Other functions in the module allow you to get the size of a file, split and join path names regardless of the operating system, and so on. The Python Documentation site at https://docs.python.org/3/library/os.path.html has more information on the `os.path` module.\n",
    "\n",
    "NOTE: In UNIX systems, paths are written using a forward slash (/) as separators; however, on Windows systems, paths are written using backslashes (\\\\) as separators. When joining path names, use `os.path.join` and Python will use the appropriate separator for the platform running the script.\n"
   ]
  },
  {
   "cell_type": "markdown",
   "metadata": {},
   "source": [
    "---\n",
    "<font size=\"6\" color=\"#00A0B2\"  face=\"verdana\"> <B>Examples</B></font>\n",
    "\n",
    "In this example, you will get the absolute path to a file and test whether the path exists and if it refers to a file or a directory."
   ]
  },
  {
   "cell_type": "code",
   "execution_count": null,
   "metadata": {},
   "outputs": [],
   "source": [
    "import os, os.path\n",
    "\n",
    "# Print the current working directory (should be \"parent_dir\")\n",
    "print('The current working directory is:', os.getcwd())\n",
    "\n",
    "# Find the absolute path to child1_dir/leaf1.txt\n",
    "abs_path = os.path.abspath('child1_dir/leaf1.txt')\n",
    "print(\"Absolute path to leaf1.txt is: \", abs_path)\n",
    "\n",
    "# Test whether the path exists\n",
    "if(os.path.exists(abs_path)):\n",
    "    print(\"Path exists\")\n",
    "    \n",
    "    # Test to see if it's a file or directory\n",
    "    if(os.path.isfile(abs_path)):\n",
    "       print(\"It's a file\")\n",
    "    elif (os.path.isdir(abs_path)):\n",
    "       print(\"It's a dir\")\n",
    "    \n",
    "else:\n",
    "    print(\"Path doesn't exist\")"
   ]
  },
  {
   "cell_type": "markdown",
   "metadata": {},
   "source": [
    "---\n",
    "<font size=\"6\" color=\"#B24C00\"  face=\"verdana\"> <B>Task 2</B></font>\n",
    "\n",
    "## Path Operations\n"
   ]
  },
  {
   "cell_type": "code",
   "execution_count": null,
   "metadata": {},
   "outputs": [],
   "source": [
    "# [ ] Write a program that prompts the user for a file or directory name \n",
    "# then prints a message verifying if it exists in the current working directory\n",
    "\n"
   ]
  },
  {
   "cell_type": "code",
   "execution_count": null,
   "metadata": {},
   "outputs": [],
   "source": [
    "# [ ] Write a program to print the absolute path of all directories in \"parent_dir\"\n",
    "# HINTS:\n",
    "# 1) Verify you are inside \"parent_dir\" using os.getcwd()\n",
    "# 2) Use os.listdir() to get a list of files and directories in \"parent_dir\"\n",
    "# 3) Iterate over the elements of the list and print the absolute paths of all the directories\n",
    "\n"
   ]
  }
 ],
 "metadata": {
  "kernelspec": {
   "display_name": "Python 3",
   "language": "python",
   "name": "python3"
  },
  "language_info": {
   "codemirror_mode": {
    "name": "ipython",
    "version": 3
   },
   "file_extension": ".py",
   "mimetype": "text/x-python",
   "name": "python",
   "nbconvert_exporter": "python",
   "pygments_lexer": "ipython3",
   "version": "3.5.4"
  }
 },
 "nbformat": 4,
 "nbformat_minor": 2
}
