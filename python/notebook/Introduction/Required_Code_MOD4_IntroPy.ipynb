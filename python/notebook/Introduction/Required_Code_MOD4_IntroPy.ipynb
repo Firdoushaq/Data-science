{
 "cells": [
  {
   "cell_type": "markdown",
   "metadata": {
    "collapsed": true
   },
   "source": [
    "#  Module 4 Required Coding Activity  \n",
    "Introduction to Python Unit 1 \n",
    "\n",
    "The activity is based on modules 1 - 4 and is similar to the Jupyter Notebooks **`Practice_MOD04_1-6_IntroPy.ipynb`** and **`Practice_MOD04_1-7_IntroPy.ipynb`** which you may have completed as practice.  This activity is a new version of the str_analysis() function.\n",
    "\n",
    "| Some Assignment Requirements |\n",
    "|:-------------------------------|\n",
    "|This program requires the use of<ul><li>**`while`** loop to get non-empty input</li><li>**`if, else`**</li><li>**`if, else`** (nested)</li><li>**`.isdigit()`** check for integer only input</li><li>**`.isalpha()`** check for alphabetic only input</li></ul><br/>The program should **only** use code syntax covered in modules 1 - 4.<br/><br/>The program must result in printed message analysis of the input.  |\n",
    "\n",
    "\n",
    "  \n",
    "## Program: `str_analysis()` Function  \n",
    "\n",
    "Create the str_analysis() function that takes 1 string argument and returns a string message.  The message will be an analysis of a test string that is passed as an argument to str_analysis(). The function should respond with messages such as:  \n",
    "- \"big number\"\n",
    "- \"small number\"\n",
    "- \"all alphabetic\"\n",
    "- \"multiple character types\"\n",
    "\n",
    "The program will call str_analysis() with a string argument from input collected within a while loop.  The while loop will test if input is empty (an empty string \"\") and continue to loop and gather input until the user submits at least 1 character (input cannot be empty).  \n",
    "\n",
    "The program then calls the str_analysis() function and prints the **return** message.\n",
    "\n",
    "\n",
    "\n",
    "#### Sample input and output:  \n",
    "enter nothing (twice) then enter a word  \n",
    "```\n",
    "enter word or integer: \n",
    "enter word or integer: \n",
    "enter word or integer: Hello\n",
    "\"Hello\" is all alphabetical characters!\n",
    "  \n",
    "```  \n",
    "-----    \n",
    "  \n",
    "alphabetical word input \n",
    "```\n",
    "enter word or integer: carbonization\n",
    "\"carbonization\" is all alphabetical characters!\n",
    "  \n",
    "```  \n",
    "-----     \n",
    "   \n",
    "numeric inputs\n",
    "```\n",
    "enter word or integer: 30\n",
    "30 is a smaller number than expected\n",
    "\n",
    "enter word or integer: 1024\n",
    "1024 is a pretty big number\n",
    "```  \n",
    "-----  \n",
    "\n",
    "\n",
    "### loop until non-empty input is submitted  \n",
    "This diagram represents the input part of the assignment - it is the loop to keep prompting the user for input until they submit some input (non-empty).  \n",
    "\n",
    "![image of while Loop with nested if statements described in bulleted text above](https://iajupyterprodblobs.blob.core.windows.net/imagecontainer/input_loop_sketch.png)  \n",
    "\n",
    "Once the user gives input with characters use the input in calling the str_analysis() function.\n",
    "\n",
    "### Additional Details\n",
    "In the body of the str_analysis() function:\n",
    "- Check `if` string is digits  \n",
    "  - if digits: convert to `int` and check `if` greater than 99  \n",
    "    - if greater than 99 print a message about a \"big number\"  \n",
    "    - if not greater than 99 print message about \"small number\"  \n",
    "  - check if string isalpha then (since not digits)\n",
    "    - if isalpha print message about being all alpha\n",
    "  - if not isalpha print a message about being neither all alpha nor all digit  \n",
    "    \n",
    "call the function with a string from user input \n",
    "- Run and test your code before submitting"
   ]
  },
  {
   "cell_type": "code",
   "execution_count": null,
   "metadata": {},
   "outputs": [],
   "source": [
    "# [ ] create, call and test the str_analysis() function  \n",
    "# then PASTE THIS CODE into edX  \n",
    "\n",
    "\n",
    "\n"
   ]
  },
  {
   "cell_type": "markdown",
   "metadata": {},
   "source": [
    "### Need assignment tips and clarification? \n",
    "See the video on the \"End of Module coding assignment > Module 4 Required Code Description\" course page on [edX](https://courses.edx.org/courses/course-v1:Microsoft+DEV236x+4T2017/course)    \n",
    "\n",
    "# Important:  [How to submit the code in edX by pasting](https://courses.edx.org/courses/course-v1:Microsoft+DEV236x+1T2017/wiki/Microsoft.DEV236x.1T2017/paste-code-end-module-coding-assignments/)"
   ]
  },
  {
   "cell_type": "markdown",
   "metadata": {
    "collapsed": true
   },
   "source": [
    "[Terms of use](http://go.microsoft.com/fwlink/?LinkID=206977) &nbsp; [Privacy & cookies](https://go.microsoft.com/fwlink/?LinkId=521839) &nbsp; © 2017 Microsoft"
   ]
  }
 ],
 "metadata": {
  "kernelspec": {
   "display_name": "Python 3",
   "language": "python",
   "name": "python3"
  },
  "language_info": {
   "codemirror_mode": {
    "name": "ipython",
    "version": 3
   },
   "file_extension": ".py",
   "mimetype": "text/x-python",
   "name": "python",
   "nbconvert_exporter": "python",
   "pygments_lexer": "ipython3",
   "version": "3.5.1"
  }
 },
 "nbformat": 4,
 "nbformat_minor": 1
}
